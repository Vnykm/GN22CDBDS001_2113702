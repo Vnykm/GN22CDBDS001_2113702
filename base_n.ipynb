{
  "nbformat": 4,
  "nbformat_minor": 0,
  "metadata": {
    "colab": {
      "name": "base-n.ipynb",
      "provenance": [],
      "authorship_tag": "ABX9TyM3FThmCZTkbH4AtZWrvSVk",
      "include_colab_link": true
    },
    "kernelspec": {
      "name": "python3",
      "display_name": "Python 3"
    },
    "language_info": {
      "name": "python"
    }
  },
  "cells": [
    {
      "cell_type": "markdown",
      "metadata": {
        "id": "view-in-github",
        "colab_type": "text"
      },
      "source": [
        "<a href=\"https://colab.research.google.com/github/Vnykm/GN22CDBDS001_2113702/blob/main/base_n.ipynb\" target=\"_parent\"><img src=\"https://colab.research.google.com/assets/colab-badge.svg\" alt=\"Open In Colab\"/></a>"
      ]
    },
    {
      "cell_type": "markdown",
      "source": [
        "write a notebook that outputs a script that:\n",
        "\n",
        "<SHOW RAW WORKING IN NOTEBOOK BEFORE USING %%writefile>\n",
        "\n",
        "\n",
        "accepts a natural number N, such that N < 17\n",
        "prints the first fifty elements in the base N \n",
        "\n",
        "example:\n",
        "N = 2\n",
        "0, 1, 10, 11, 100, 101, 110, 111, 1000.....\n",
        "\n",
        "N = 10\n",
        "0, 1, 2, 3, 4, 5, 6, 7, 8, 9, 10, 11\n",
        "\n",
        "N = 16\n",
        "0, 1, 2, 3, 4, 5, 6, 7, 8, 9, A, B, C, D, E, F, 10, ....\n",
        "\n",
        "Program SHOULD not crash. Use exception handling."
      ],
      "metadata": {
        "id": "03_Pjf3YyekI"
      }
    },
    {
      "cell_type": "code",
      "execution_count": 3,
      "metadata": {
        "colab": {
          "base_uri": "https://localhost:8080/"
        },
        "id": "NKcPGAd_yZRT",
        "outputId": "95d2d1f7-14e4-4a41-d346-1acb6a71a235"
      },
      "outputs": [
        {
          "output_type": "stream",
          "name": "stdout",
          "text": [
            "Enter a Natural Number:14\n",
            "First Fifty elements in base N=14:\n",
            "0 1 2 3 4 5 6 7 8 9 a b c d 10 11 12 13 14 15 16 17 18 19 1a 1b 1c 1d 20 21 22 23 24 25 26 27 28 29 2a 2b 2c 2d 30 31 32 33 34 35 36 37 \n"
          ]
        }
      ],
      "source": [
        "def digit_to_char(digit):\n",
        "    if digit < 10:\n",
        "        return str(digit)\n",
        "    return chr(ord('a') + digit - 10)\n",
        "\n",
        "def str_base(number,base):\n",
        "    if number < 0:\n",
        "        return '-' + str_base(-number, base)\n",
        "    (d, m) = divmod(number, base)\n",
        "    if d > 0:\n",
        "        return str_base(d, base) + digit_to_char(m)\n",
        "    return digit_to_char(m)\n",
        "\n",
        "def tobasen(n):\n",
        "  res = []\n",
        "  for x in range(0,50):\n",
        "    res.append(str_base(x, n))\n",
        "  return res\n",
        "\n",
        "if __name__ == \"__main__\":\n",
        "  try:\n",
        "    N = int(input('Enter a Natural Number:'))\n",
        "    if N>16:\n",
        "      raise Exception(\"Number Greator than 17\")\n",
        "    baseNtillfifty = tobasen(N)\n",
        "    print('First Fifty elements in base N={}:'.format(N))\n",
        "    for i in baseNtillfifty:\n",
        "      print(i, end=' ')\n",
        "    print()\n",
        "  except:\n",
        "    print('Illegal Base')"
      ]
    },
    {
      "cell_type": "code",
      "source": [
        "%%writefile -a basenfifty.py\n",
        "def digit_to_char(digit):\n",
        "    if digit < 10:\n",
        "        return str(digit)\n",
        "    return chr(ord('a') + digit - 10)\n",
        "\n",
        "def str_base(number,base):\n",
        "    if number < 0:\n",
        "        return '-' + str_base(-number, base)\n",
        "    (d, m) = divmod(number, base)\n",
        "    if d > 0:\n",
        "        return str_base(d, base) + digit_to_char(m)\n",
        "    return digit_to_char(m)\n",
        "\n",
        "def tobasen(n):\n",
        "  res = []\n",
        "  for x in range(0,50):\n",
        "    res.append(str_base(x, n))\n",
        "  return res"
      ],
      "metadata": {
        "colab": {
          "base_uri": "https://localhost:8080/"
        },
        "id": "Y-ZliAF93qJe",
        "outputId": "6fb3248c-1d34-46b3-a5f6-bf1c78352f1d"
      },
      "execution_count": 4,
      "outputs": [
        {
          "output_type": "stream",
          "name": "stdout",
          "text": [
            "Writing basenfifty.py\n"
          ]
        }
      ]
    },
    {
      "cell_type": "code",
      "source": [
        "!cat basenfifty.py"
      ],
      "metadata": {
        "id": "5ChC28q33x14",
        "outputId": "5b33b451-c1c3-446a-af20-3f49fba70fef",
        "colab": {
          "base_uri": "https://localhost:8080/"
        }
      },
      "execution_count": 5,
      "outputs": [
        {
          "output_type": "stream",
          "name": "stdout",
          "text": [
            "def digit_to_char(digit):\n",
            "    if digit < 10:\n",
            "        return str(digit)\n",
            "    return chr(ord('a') + digit - 10)\n",
            "\n",
            "def str_base(number,base):\n",
            "    if number < 0:\n",
            "        return '-' + str_base(-number, base)\n",
            "    (d, m) = divmod(number, base)\n",
            "    if d > 0:\n",
            "        return str_base(d, base) + digit_to_char(m)\n",
            "    return digit_to_char(m)\n",
            "\n",
            "def tobasen(n):\n",
            "  res = []\n",
            "  for x in range(0,50):\n",
            "    res.append(str_base(x, n))\n",
            "  return res"
          ]
        }
      ]
    }
  ]
}