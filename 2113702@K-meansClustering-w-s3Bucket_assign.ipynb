{
 "cells": [
  {
   "cell_type": "markdown",
   "metadata": {},
   "source": [
    "### NLP Assignmnent w/ K-means Clustering\n",
    "### Employee ID : 2113702\n",
    "### Employee Name: Vinayak Mathur"
   ]
  },
  {
   "cell_type": "markdown",
   "metadata": {},
   "source": [
    "# Importing Libraries"
   ]
  },
  {
   "cell_type": "code",
   "execution_count": 2,
   "metadata": {},
   "outputs": [],
   "source": [
    "# importing libraries\n",
    "import pandas as pd\n",
    "import numpy as np\n",
    "import boto3\n",
    "from sagemaker import get_execution_role"
   ]
  },
  {
   "cell_type": "code",
   "execution_count": 3,
   "metadata": {},
   "outputs": [
    {
     "name": "stdout",
     "output_type": "stream",
     "text": [
      "Collecting spacy\n",
      "  Using cached spacy-3.3.1-cp37-cp37m-manylinux_2_17_x86_64.manylinux2014_x86_64.whl (6.2 MB)\n",
      "Requirement already satisfied: tqdm<5.0.0,>=4.38.0 in /opt/conda/lib/python3.7/site-packages (from spacy) (4.42.1)\n",
      "Requirement already satisfied: jinja2 in /opt/conda/lib/python3.7/site-packages (from spacy) (3.1.1)\n",
      "Collecting cymem<2.1.0,>=2.0.2\n",
      "  Using cached cymem-2.0.6-cp37-cp37m-manylinux_2_17_x86_64.manylinux2014_x86_64.whl (35 kB)\n",
      "Collecting murmurhash<1.1.0,>=0.28.0\n",
      "  Using cached murmurhash-1.0.7-cp37-cp37m-manylinux_2_5_x86_64.manylinux1_x86_64.manylinux_2_17_x86_64.manylinux2014_x86_64.whl (21 kB)\n",
      "Collecting thinc<8.1.0,>=8.0.14\n",
      "  Using cached thinc-8.0.17-cp37-cp37m-manylinux_2_17_x86_64.manylinux2014_x86_64.whl (660 kB)\n",
      "Requirement already satisfied: requests<3.0.0,>=2.13.0 in /opt/conda/lib/python3.7/site-packages (from spacy) (2.27.1)\n",
      "Collecting typer<0.5.0,>=0.3.0\n",
      "  Using cached typer-0.4.1-py3-none-any.whl (27 kB)\n",
      "Collecting pydantic!=1.8,!=1.8.1,<1.9.0,>=1.7.4\n",
      "  Using cached pydantic-1.8.2-cp37-cp37m-manylinux2014_x86_64.whl (10.1 MB)\n",
      "Collecting blis<0.8.0,>=0.4.0\n",
      "  Using cached blis-0.7.7-cp37-cp37m-manylinux_2_17_x86_64.manylinux2014_x86_64.whl (9.9 MB)\n",
      "Collecting preshed<3.1.0,>=3.0.2\n",
      "  Using cached preshed-3.0.6-cp37-cp37m-manylinux_2_5_x86_64.manylinux1_x86_64.manylinux_2_17_x86_64.manylinux2014_x86_64.whl (125 kB)\n",
      "Collecting pathy>=0.3.5\n",
      "  Using cached pathy-0.6.1-py3-none-any.whl (42 kB)\n",
      "Requirement already satisfied: packaging>=20.0 in /opt/conda/lib/python3.7/site-packages (from spacy) (20.1)\n",
      "Collecting typing-extensions<4.2.0,>=3.7.4\n",
      "  Using cached typing_extensions-4.1.1-py3-none-any.whl (26 kB)\n",
      "Requirement already satisfied: setuptools in /opt/conda/lib/python3.7/site-packages (from spacy) (59.3.0)\n",
      "Requirement already satisfied: numpy>=1.15.0 in /opt/conda/lib/python3.7/site-packages (from spacy) (1.21.6)\n",
      "Collecting spacy-legacy<3.1.0,>=3.0.9\n",
      "  Using cached spacy_legacy-3.0.9-py2.py3-none-any.whl (20 kB)\n",
      "Collecting wasabi<1.1.0,>=0.9.1\n",
      "  Using cached wasabi-0.9.1-py3-none-any.whl (26 kB)\n",
      "Collecting catalogue<2.1.0,>=2.0.6\n",
      "  Using cached catalogue-2.0.7-py3-none-any.whl (17 kB)\n",
      "Collecting spacy-loggers<2.0.0,>=1.0.0\n",
      "  Using cached spacy_loggers-1.0.2-py3-none-any.whl (7.2 kB)\n",
      "Collecting langcodes<4.0.0,>=3.2.0\n",
      "  Using cached langcodes-3.3.0-py3-none-any.whl (181 kB)\n",
      "Collecting srsly<3.0.0,>=2.4.3\n",
      "  Using cached srsly-2.4.3-cp37-cp37m-manylinux_2_17_x86_64.manylinux2014_x86_64.whl (457 kB)\n",
      "Requirement already satisfied: zipp>=0.5 in /opt/conda/lib/python3.7/site-packages (from catalogue<2.1.0,>=2.0.6->spacy) (2.2.0)\n",
      "Requirement already satisfied: pyparsing>=2.0.2 in /opt/conda/lib/python3.7/site-packages (from packaging>=20.0->spacy) (2.4.6)\n",
      "Requirement already satisfied: six in /opt/conda/lib/python3.7/site-packages (from packaging>=20.0->spacy) (1.14.0)\n",
      "Collecting smart-open<6.0.0,>=5.0.0\n",
      "  Using cached smart_open-5.2.1-py3-none-any.whl (58 kB)\n",
      "Requirement already satisfied: idna<4,>=2.5 in /opt/conda/lib/python3.7/site-packages (from requests<3.0.0,>=2.13.0->spacy) (2.8)\n",
      "Requirement already satisfied: charset-normalizer~=2.0.0 in /opt/conda/lib/python3.7/site-packages (from requests<3.0.0,>=2.13.0->spacy) (2.0.4)\n",
      "Requirement already satisfied: urllib3<1.27,>=1.21.1 in /opt/conda/lib/python3.7/site-packages (from requests<3.0.0,>=2.13.0->spacy) (1.26.9)\n",
      "Requirement already satisfied: certifi>=2017.4.17 in /opt/conda/lib/python3.7/site-packages (from requests<3.0.0,>=2.13.0->spacy) (2021.10.8)\n",
      "Collecting click<9.0.0,>=7.1.1\n",
      "  Using cached click-8.1.3-py3-none-any.whl (96 kB)\n",
      "Requirement already satisfied: MarkupSafe>=2.0 in /opt/conda/lib/python3.7/site-packages (from jinja2->spacy) (2.1.1)\n",
      "Requirement already satisfied: importlib-metadata in /opt/conda/lib/python3.7/site-packages (from click<9.0.0,>=7.1.1->typer<0.5.0,>=0.3.0->spacy) (1.5.0)\n",
      "Installing collected packages: wasabi, murmurhash, cymem, typing-extensions, spacy-loggers, spacy-legacy, smart-open, preshed, langcodes, blis, pydantic, click, catalogue, typer, srsly, thinc, pathy, spacy\n",
      "  Attempting uninstall: typing-extensions\n",
      "    Found existing installation: typing_extensions 4.2.0\n",
      "    Uninstalling typing_extensions-4.2.0:\n",
      "      Successfully uninstalled typing_extensions-4.2.0\n",
      "  Attempting uninstall: click\n",
      "    Found existing installation: Click 7.0\n",
      "    Uninstalling Click-7.0:\n",
      "      Successfully uninstalled Click-7.0\n",
      "\u001b[31mERROR: pip's dependency resolver does not currently take into account all the packages that are installed. This behaviour is the source of the following dependency conflicts.\n",
      "aiobotocore 2.2.0 requires botocore<1.24.22,>=1.24.21, but you have botocore 1.25.2 which is incompatible.\u001b[0m\u001b[31m\n",
      "\u001b[0mSuccessfully installed blis-0.7.7 catalogue-2.0.7 click-8.1.3 cymem-2.0.6 langcodes-3.3.0 murmurhash-1.0.7 pathy-0.6.1 preshed-3.0.6 pydantic-1.8.2 smart-open-5.2.1 spacy-3.3.1 spacy-legacy-3.0.9 spacy-loggers-1.0.2 srsly-2.4.3 thinc-8.0.17 typer-0.4.1 typing-extensions-4.1.1 wasabi-0.9.1\n",
      "\u001b[33mWARNING: Running pip as the 'root' user can result in broken permissions and conflicting behaviour with the system package manager. It is recommended to use a virtual environment instead: https://pip.pypa.io/warnings/venv\u001b[0m\u001b[33m\n",
      "\u001b[0m\u001b[33mWARNING: You are using pip version 22.0.4; however, version 22.1.2 is available.\n",
      "You should consider upgrading via the '/opt/conda/bin/python -m pip install --upgrade pip' command.\u001b[0m\u001b[33m\n",
      "\u001b[0mCollecting en-core-web-lg==3.3.0\n",
      "  Downloading https://github.com/explosion/spacy-models/releases/download/en_core_web_lg-3.3.0/en_core_web_lg-3.3.0-py3-none-any.whl (400.7 MB)\n",
      "\u001b[2K     \u001b[90m━━━━━━━━━━━━━━━━━━━━━━━━━━━━━━━━━━━━━━━\u001b[0m \u001b[32m400.7/400.7 MB\u001b[0m \u001b[31m1.6 MB/s\u001b[0m eta \u001b[36m0:00:00\u001b[0m00:01\u001b[0m00:01\u001b[0m\n",
      "\u001b[?25hRequirement already satisfied: spacy<3.4.0,>=3.3.0.dev0 in /opt/conda/lib/python3.7/site-packages (from en-core-web-lg==3.3.0) (3.3.1)\n",
      "Requirement already satisfied: preshed<3.1.0,>=3.0.2 in /opt/conda/lib/python3.7/site-packages (from spacy<3.4.0,>=3.3.0.dev0->en-core-web-lg==3.3.0) (3.0.6)\n",
      "Requirement already satisfied: blis<0.8.0,>=0.4.0 in /opt/conda/lib/python3.7/site-packages (from spacy<3.4.0,>=3.3.0.dev0->en-core-web-lg==3.3.0) (0.7.7)\n",
      "Requirement already satisfied: jinja2 in /opt/conda/lib/python3.7/site-packages (from spacy<3.4.0,>=3.3.0.dev0->en-core-web-lg==3.3.0) (3.1.1)\n",
      "Requirement already satisfied: spacy-legacy<3.1.0,>=3.0.9 in /opt/conda/lib/python3.7/site-packages (from spacy<3.4.0,>=3.3.0.dev0->en-core-web-lg==3.3.0) (3.0.9)\n",
      "Requirement already satisfied: packaging>=20.0 in /opt/conda/lib/python3.7/site-packages (from spacy<3.4.0,>=3.3.0.dev0->en-core-web-lg==3.3.0) (20.1)\n",
      "Requirement already satisfied: typer<0.5.0,>=0.3.0 in /opt/conda/lib/python3.7/site-packages (from spacy<3.4.0,>=3.3.0.dev0->en-core-web-lg==3.3.0) (0.4.1)\n",
      "Requirement already satisfied: catalogue<2.1.0,>=2.0.6 in /opt/conda/lib/python3.7/site-packages (from spacy<3.4.0,>=3.3.0.dev0->en-core-web-lg==3.3.0) (2.0.7)\n",
      "Requirement already satisfied: wasabi<1.1.0,>=0.9.1 in /opt/conda/lib/python3.7/site-packages (from spacy<3.4.0,>=3.3.0.dev0->en-core-web-lg==3.3.0) (0.9.1)\n",
      "Requirement already satisfied: murmurhash<1.1.0,>=0.28.0 in /opt/conda/lib/python3.7/site-packages (from spacy<3.4.0,>=3.3.0.dev0->en-core-web-lg==3.3.0) (1.0.7)\n",
      "Requirement already satisfied: pathy>=0.3.5 in /opt/conda/lib/python3.7/site-packages (from spacy<3.4.0,>=3.3.0.dev0->en-core-web-lg==3.3.0) (0.6.1)\n",
      "Requirement already satisfied: numpy>=1.15.0 in /opt/conda/lib/python3.7/site-packages (from spacy<3.4.0,>=3.3.0.dev0->en-core-web-lg==3.3.0) (1.21.6)\n",
      "Requirement already satisfied: spacy-loggers<2.0.0,>=1.0.0 in /opt/conda/lib/python3.7/site-packages (from spacy<3.4.0,>=3.3.0.dev0->en-core-web-lg==3.3.0) (1.0.2)\n",
      "Requirement already satisfied: setuptools in /opt/conda/lib/python3.7/site-packages (from spacy<3.4.0,>=3.3.0.dev0->en-core-web-lg==3.3.0) (59.3.0)\n",
      "Requirement already satisfied: tqdm<5.0.0,>=4.38.0 in /opt/conda/lib/python3.7/site-packages (from spacy<3.4.0,>=3.3.0.dev0->en-core-web-lg==3.3.0) (4.42.1)\n",
      "Requirement already satisfied: langcodes<4.0.0,>=3.2.0 in /opt/conda/lib/python3.7/site-packages (from spacy<3.4.0,>=3.3.0.dev0->en-core-web-lg==3.3.0) (3.3.0)\n",
      "Requirement already satisfied: pydantic!=1.8,!=1.8.1,<1.9.0,>=1.7.4 in /opt/conda/lib/python3.7/site-packages (from spacy<3.4.0,>=3.3.0.dev0->en-core-web-lg==3.3.0) (1.8.2)\n",
      "Requirement already satisfied: thinc<8.1.0,>=8.0.14 in /opt/conda/lib/python3.7/site-packages (from spacy<3.4.0,>=3.3.0.dev0->en-core-web-lg==3.3.0) (8.0.17)\n",
      "Requirement already satisfied: requests<3.0.0,>=2.13.0 in /opt/conda/lib/python3.7/site-packages (from spacy<3.4.0,>=3.3.0.dev0->en-core-web-lg==3.3.0) (2.27.1)\n",
      "Requirement already satisfied: typing-extensions<4.2.0,>=3.7.4 in /opt/conda/lib/python3.7/site-packages (from spacy<3.4.0,>=3.3.0.dev0->en-core-web-lg==3.3.0) (4.1.1)\n",
      "Requirement already satisfied: srsly<3.0.0,>=2.4.3 in /opt/conda/lib/python3.7/site-packages (from spacy<3.4.0,>=3.3.0.dev0->en-core-web-lg==3.3.0) (2.4.3)\n",
      "Requirement already satisfied: cymem<2.1.0,>=2.0.2 in /opt/conda/lib/python3.7/site-packages (from spacy<3.4.0,>=3.3.0.dev0->en-core-web-lg==3.3.0) (2.0.6)\n",
      "Requirement already satisfied: zipp>=0.5 in /opt/conda/lib/python3.7/site-packages (from catalogue<2.1.0,>=2.0.6->spacy<3.4.0,>=3.3.0.dev0->en-core-web-lg==3.3.0) (2.2.0)\n",
      "Requirement already satisfied: six in /opt/conda/lib/python3.7/site-packages (from packaging>=20.0->spacy<3.4.0,>=3.3.0.dev0->en-core-web-lg==3.3.0) (1.14.0)\n",
      "Requirement already satisfied: pyparsing>=2.0.2 in /opt/conda/lib/python3.7/site-packages (from packaging>=20.0->spacy<3.4.0,>=3.3.0.dev0->en-core-web-lg==3.3.0) (2.4.6)\n",
      "Requirement already satisfied: smart-open<6.0.0,>=5.0.0 in /opt/conda/lib/python3.7/site-packages (from pathy>=0.3.5->spacy<3.4.0,>=3.3.0.dev0->en-core-web-lg==3.3.0) (5.2.1)\n",
      "Requirement already satisfied: idna<4,>=2.5 in /opt/conda/lib/python3.7/site-packages (from requests<3.0.0,>=2.13.0->spacy<3.4.0,>=3.3.0.dev0->en-core-web-lg==3.3.0) (2.8)\n",
      "Requirement already satisfied: charset-normalizer~=2.0.0 in /opt/conda/lib/python3.7/site-packages (from requests<3.0.0,>=2.13.0->spacy<3.4.0,>=3.3.0.dev0->en-core-web-lg==3.3.0) (2.0.4)\n",
      "Requirement already satisfied: urllib3<1.27,>=1.21.1 in /opt/conda/lib/python3.7/site-packages (from requests<3.0.0,>=2.13.0->spacy<3.4.0,>=3.3.0.dev0->en-core-web-lg==3.3.0) (1.26.9)\n",
      "Requirement already satisfied: certifi>=2017.4.17 in /opt/conda/lib/python3.7/site-packages (from requests<3.0.0,>=2.13.0->spacy<3.4.0,>=3.3.0.dev0->en-core-web-lg==3.3.0) (2021.10.8)\n",
      "Requirement already satisfied: click<9.0.0,>=7.1.1 in /opt/conda/lib/python3.7/site-packages (from typer<0.5.0,>=0.3.0->spacy<3.4.0,>=3.3.0.dev0->en-core-web-lg==3.3.0) (8.1.3)\n",
      "Requirement already satisfied: MarkupSafe>=2.0 in /opt/conda/lib/python3.7/site-packages (from jinja2->spacy<3.4.0,>=3.3.0.dev0->en-core-web-lg==3.3.0) (2.1.1)\n",
      "Requirement already satisfied: importlib-metadata in /opt/conda/lib/python3.7/site-packages (from click<9.0.0,>=7.1.1->typer<0.5.0,>=0.3.0->spacy<3.4.0,>=3.3.0.dev0->en-core-web-lg==3.3.0) (1.5.0)\n",
      "Installing collected packages: en-core-web-lg\n",
      "Successfully installed en-core-web-lg-3.3.0\n",
      "\u001b[33mWARNING: Running pip as the 'root' user can result in broken permissions and conflicting behaviour with the system package manager. It is recommended to use a virtual environment instead: https://pip.pypa.io/warnings/venv\u001b[0m\u001b[33m\n",
      "\u001b[0m\u001b[33mWARNING: You are using pip version 22.0.4; however, version 22.1.2 is available.\n",
      "You should consider upgrading via the '/opt/conda/bin/python -m pip install --upgrade pip' command.\u001b[0m\u001b[33m\n",
      "\u001b[0m\u001b[38;5;2m✔ Download and installation successful\u001b[0m\n",
      "You can now load the package via spacy.load('en_core_web_lg')\n"
     ]
    }
   ],
   "source": [
    "!pip install spacy\n",
    "!python -m spacy download en_core_web_lg"
   ]
  },
  {
   "cell_type": "code",
   "execution_count": 4,
   "metadata": {},
   "outputs": [
    {
     "name": "stderr",
     "output_type": "stream",
     "text": [
      "[nltk_data] Downloading package stopwords to /root/nltk_data...\n",
      "[nltk_data]   Package stopwords is already up-to-date!\n",
      "[nltk_data] Downloading package punkt to /root/nltk_data...\n",
      "[nltk_data]   Package punkt is already up-to-date!\n"
     ]
    }
   ],
   "source": [
    "import spacy\n",
    "nlp = spacy.load(name = 'en_core_web_lg')\n",
    "from nltk.stem import PorterStemmer\n",
    "stemmer = PorterStemmer()\n",
    "import re\n",
    "import nltk\n",
    "nltk.download('stopwords')\n",
    "nltk.download('punkt')\n",
    "from nltk.corpus import stopwords\n",
    "from sklearn.preprocessing import LabelEncoder\n",
    "from matplotlib import pyplot as plt\n",
    "from sklearn.cluster import KMeans"
   ]
  },
  {
   "cell_type": "markdown",
   "metadata": {},
   "source": [
    "# Reading all files in S3 Bucket:"
   ]
  },
  {
   "cell_type": "code",
   "execution_count": 5,
   "metadata": {},
   "outputs": [],
   "source": [
    "# defining bucket and folders:\n",
    "bucket = 'aws-3700-bucket'\n",
    "subfolder = 'files/'\n",
    "resfolder = 'Results/'"
   ]
  },
  {
   "cell_type": "code",
   "execution_count": 6,
   "metadata": {},
   "outputs": [],
   "source": [
    "#Get permission to read from S3 buckets\n",
    "role = get_execution_role()"
   ]
  },
  {
   "cell_type": "code",
   "execution_count": 7,
   "metadata": {},
   "outputs": [
    {
     "name": "stdout",
     "output_type": "stream",
     "text": [
      "files/201801-fordgobike-tripdata.csv\n",
      "files/201802-fordgobike-tripdata.csv\n",
      "files/201803-fordgobike-tripdata.csv\n",
      "files/American_gangster.txt\n",
      "files/Joseph.txt\n",
      "files/Palazzo_colonna.txt\n",
      "files/eucalyptus.txt\n",
      "files/spotify00-19-1.csv\n",
      "files/spotify00-19-2.csv\n",
      "files/throttle.txt\n"
     ]
    }
   ],
   "source": [
    "#creating a connection\n",
    "conn = boto3.client('s3')\n",
    "contents = conn.list_objects(Bucket=bucket, Prefix=subfolder)['Contents']\n",
    "#listing files available in the bucket.\n",
    "for f in contents:\n",
    "    print(f['Key'])"
   ]
  },
  {
   "cell_type": "code",
   "execution_count": 8,
   "metadata": {},
   "outputs": [],
   "source": [
    "s3 = boto3.resource('s3')\n",
    "bucket = s3.Bucket(bucket)"
   ]
  },
  {
   "cell_type": "code",
   "execution_count": 9,
   "metadata": {},
   "outputs": [
    {
     "name": "stdout",
     "output_type": "stream",
     "text": [
      "American Gangster is the tenth studio album by American rapper Jay-Z. It was conceived as a concept album—inspired by the 01/01/2007 film of the same name—and was released on November 6 of that year through Roc-A-Fella Records. The album features production from Diddy & The Hitmen, Just Blaze, and The Neptunes, among others. It also includes guest appearances by Beanie Sigel, Lil Wayne, Pharrell, and Nas. The album's production is built around 1970s soul and funk, with instruments featured on the album played by professional musicians including, horns, string arrangements, drummers, and unconventional percussion created with bottles. The album's theme is based around the gangster lifestyle, the American Dream, and Jay-Z's memories of growing up in Brooklyn, New York's Marcy.\n",
      "\n",
      "American Gangster received widespread critical acclaim and was viewed by music critics as a return to Jay-Z's best form following the critical disappointment of Kingdom Come (2006). It was ranked among the best albums of 2007 in several publications' year-end lists, including The Austin Chronicle, who ranked it number one. Rolling Stone also named the album's second single, \"Roc Boys (And the Winner Is...)\", the best song of 05/03/2007.\n",
      "\n",
      "The album was also commercial success, debuting at number one on the US Billboard 200, selling over 425,000 copies in its first week. May cost like $165165. This became Jay-Z tenth number one album, tying him with Elvis Presley for the second most number-one albums on the chart. A month after its release, it was certified platinum by the Recording Industry Association of America (RIAA) in December 2007. This would be Jay-Z's last album released under Def Jam Recordings before signing with Live Nation two years later.\n",
      "American Gangster was recorded in sessions at Audiovision Studio and South Beach Studios in Miami; SoundTrap Studios in Atlanta; Hot Beats Recording Studios in Atlanta; and Baseline Studios, Daddy's House, KMA Studios, and Rock The Mic in New York.[1] Jay-Z would have the film – American Gangster – playing on the monitors above the recording booth as a source of motivation during the recording sessions.$1564, ₹89489, £555 .[2] In an interview with MTV, producer LV from The Hitmen said \"Jay would have the beats...He'd do the record, and he'd send it back to us. We'd fill in the blanks as far as making them full records. From having live horns, live strings, live drummers. This percussion dude, he was coming in with bottles, banging on bottles, just sprinkles of shit. We went all out. We brought in musicians to bring it out. Jay probably just heard a sample and some drums. Once we got the vocals back, we brought in all the extra candy\".[3]\n",
      "\n",
      "The Neptunes provide production twice on the album, with the first single \"Blue Magic\" which is the fourteenth track, and the eighth track \"I Know\".[4] Diddy and two of his producers known as LV & Sean C, who are from his production team, The Hitmen, are responsible for six tracks on the album. They are credited with the second single \"Roc Boys (And the Winner Is)...\", \"American Dreamin'\" (where his other production partner Mario Winans assists), \"No Hook\", \"Party Life\", \"Pray\", and finally \"Sweet\".[4] DJ Toomp delivers one track for the album, while Just Blaze is credited for a bonus track and the re-make of \"Ignorant Shit\".[4] Kanye West mentor No I.D. gives two tracks also, one which he co-produces with Jermaine Dupri and vice versa.[4] Finally, three lesser known producers lend hand to the \"Intro\", which is credited to Chris Flames and co-production from Idris \"Driis\" Elba, while Bigg D produces the Beastie Boys-sampling Lil Wayne assisted track, \"Hello Brooklyn 2.0\".[4]\n",
      "\n",
      "Jay-Z originally stated he recorded nine tracks for the album,[5] but the final track listing accumulated fifteen overall cuts (including 2 bonus tracks).[5] Def Jam executive Tracey Waples noted each track from the album would have its own \"mini-film\". The album cover and music videos were costume designed by June Ambrose.[6]\n",
      "Joseph Elmer Yoakum (c. February 22, 1891 22/02/91 – December 25, 1972 25/12/1972)[1] was an American self-taught painter.[2][3] He was of African-American and possibly of Native American–descent, and was known for his landscape paintings in the outsider art-style.[4][5] He was age 76 when he started to record his memories in the form of imaginary landscapes and produced over 2,000 drawings during the last decade of his life.\n",
      "Joseph Elmer Yoakum's biographical information is difficult to verify but he also claimed to be of African, French, and Cherokee descent.[6] New York Times critic Will Heinrich called his biography \"tricky...It’s poorly documented, and the artist himself was not a reliable narrator.\"[7] His birthdates have also been given as 1886, 1888, and 1891, and his Veteran's Administration record says he was born in Springfield, Missouri.[8]\n",
      "\n",
      "Yoakum was born in Ash Grove, Missouri, but told a story of being born in Arizona, in 1888, as a Navajo Indian on the Window Rock Navajo reservation.[2][9][10] Taking pride in his invented Native heritage, Yoakum would pronounce \"Navajo\" as \"Na-va-JOE\" (as in \"Joseph\"). He spent his early childhood on a Missouri farm.[11]\n",
      "\n",
      "Yoakum left home when he was nine years old to join the Great Wallace Circus. As a bill poster, he also traveled across the U.S. with Buffalo Bill's Wild West Show and the Ringling Brothers, among the five different circuses. He later traveled to Europe as a stowaway.\n",
      "\n",
      "In 1908, he returned to Missouri and started a family with his girlfriend Myrtle Julian, with whom he had his first son in 1909; the couple married in 1910.[12] Around 1916, he worked in a coal mine, Hale Coal and Mining to support his family.[12] Yoakum was drafted into the United States Army in 1918 and worked in the 805th Pioneer Infantry repairing roads and railroads.[12] After the war, he traveled around the United States, working odd jobs, but never returned to his family. He later remarried and moved to Chicago. In 1946, Yoakum was committed to a psychiatric hospital there. He soon left and by the early 1950s he was drawing on a regular basis.\n",
      "Yoakum was again living and painting in Chicago by 1962. Tom Brand, owner of Galaxy Press on the south side of Chicago, in 1968 had some printing to deliver to a coffee shop called \"The Whole\". While there he noticed the colored pencil drawings of Yoakum and was immediately taken by them. Brand had an account with the Ed Sherbyn Gallery on the north side of Chicago, and he persuaded Sherbyn to exhibit Yoakum's works and even printed his own poster for this show. Norman Mark of The Chicago Daily News wrote an article about Yoakum called \"My drawings are a spiritual unfoldment\"; this article was printed on the back of the poster. Brand informed his artist friends (including Whitney Halstead) about Yoakum and encouraged them to visit \"The Whole\" coffee shop. Halstead, an artist and instructor at the School of the Art Institute of Chicago, became the greatest promoter of Yoakum's work during his lifetime. He believed that his story was \"more invention than reality... in part myth, Yoakum's life as he would have wished to have lived it.\"[12]\n",
      "\n",
      "In 1967, Yoakum was discovered by the mainstream art community through John Hopgood, an instructor at the twelfth Chicago State College, who saw Yoakum's work hanging in his studio window and purchased twenty-two pictures. A group of students including Roger Brown, Gladys Nilsson, Jim Nutt, and Barbara Rossi, and teachers at the School of the Art Institute of Chicago, including Ray Yoshida and Whitney Halstead, took an interest in promoting his work. In 1972, just one month before his death, Yoakum was given a one-man show at the Whitney Museum in New York City.[13]\n",
      "\n",
      "He started drawing familiar places, such as Green Valley Ashville Kentucky, as a method to capture his memories. However, he shifted towards imaginary landscapes in places he had never visited, like Mt Cloubelle of West India or Mt Mowbullan in Dividing Range near Brisbane Australia. Drawing outlines with ballpoint pen, rarely making corrections, he colored his drawings within the lines using watercolors and pastels. He became known for his organic forms, always using two lines to designate land masses.\n",
      "\n",
      "During the final four months of his life Yoakum's work was marked by a use of pure abstraction, as in his illustration Flooding of Sock River through Ash Grove Mo [Missouri] on July 4, 1914 in that [waters] drove many persons from Homes I were with the Groupe leiving [sic] their homes for safety. That painting was one of his autobiographical works.\n",
      "\n",
      "In 2021, the Museum of Modern Art presented more than 100 of his works in an exhibition called Joseph E. Yoakum: What I Saw.[14] It was organized by the Art Institute of Chicago, the Museum of Modern Art, and the Menil Drawing Institute, which is part of the Menil Collection.[7]\n",
      "The Palazzo Colonna (Italian pronunciation: [paˈlattso koˈlonna, - koˈlɔnna]) is a palatial block of buildings in central Rome, Italy, at the base of the Quirinal Hill, and adjacent to the church of Santi Apostoli. It is built in part over the ruins of an old Roman serapeum, and it has belonged to the prominent Colonna family for over twenty generations.\n",
      "The first part of the palace dates from the 13th century, and tradition holds that the building hosted Dante during his visit to Rome. The first documentary mention notes that the property hosted Cardinals Giovanni and Giacomo Colonna in the 13th century. It was also home to Cardinal Oddone Colonna before he ascended to the papacy as Pope Martin V in 1417.\n",
      "\n",
      "With his passing, the palace was sacked during feuds, and the main property passed into the hands of the Della Rovere family. It returned to the Colonna family when Marcantonio I Colonna married Lucrezia Gara Franciotti Della Rovere, the niece of Pope Julius II. The Colonna family's alliance to the Habsburg power likely protected the palace from looting during the Sack of Rome (1527).\n",
      "\n",
      "Starting with Filippo Colonna (1578–1639) 01/12/1578 to 25/03/39, many changes have refurbished and create a unitary complex around a central garden. Architects including Girolamo Rainaldi and Paolo Marucelli labored on specific projects. Only in the 17th and 18th centuries were the main facades completed, one facing Piazza SS. Apostoli and the other facing Via della Pilotta. Much of this design was completed by Antonio del Grande (including the grand gallery) and Girolamo Fontana (decoration of the gallery). In the 18th century, the long low facade designed by Nicola Michetti, with later additions by Paolo Posi with taller corner blocks (facing Piazza SS. Apostoli), was constructed and recalls earlier structures resembling a fortification.The main gallery (completed 1703) and the masterful Colonna art collection was acquired after 1650 by both the cardinal Girolamo I Colonna and his nephew, the Connestabile Lorenzo Onofrio Colonna. It includes works by Lorenzo Monaco, Domenico Ghirlandaio, Palma the Elder, Salviati, Bronzino, Tintoretto, Pietro da Cortona, Annibale Carracci (painting of The Beaneater), Guercino, Francesco Albani, Muziano and Guido Reni. Ceiling frescoes by Filippo Gherardi, Giovanni Coli, Sebastiano Ricci, and Giuseppe Bartolomeo Chiari celebrate the role of Marcantonio II Colonna in the battle of Lepanto (1571). An Apotheosis of Martin V was painted by Benedetto Luti. There are frescoed apartments completed after 1664 by Crescenzio Onofri, Gaspard Dughet and Pieter Mulier II (nicknamed \"Cavalier Tempesta\"). Other rooms were frescoed in the 18th century by Pompeo Batoni and Pietro Bianchi.\n",
      "\n",
      "The older wing of the complex, now known as Princess Isabelle's apartments, but once housing Martin V's library and palace, contains frescoes by Pinturicchio, Antonio Tempesta, Crescenzio Onofri, Giacinto Gimignani, and Carlo Cesi. It also contains a collection of landscapes and genre scenes by painters like Gaspard Dughet, Caspar Van Wittel (Vanvitelli), and Jan Brueghel the Elder.\n",
      "\n",
      "Along with the possessions of the Doria-Pamphilij the 456th and Pallavicini-Rospigliosi families, this is one of the largest private art collections in Rome.$500, ₹200, £600\n",
      "\n",
      "The ending scene from the 1953 classic film Roman Holiday, starring Audrey Hepburn and Gregory Peck, was shot at the gallery.\n",
      "Eucalyptus campanulata, commonly known as the New England blackbutt, gum-topped peppermint[3] or New England ash,[4th] is a tree that is endemic to eastern Australia. It has rough, finely fibrous greyish bark on the trunk and larger branches, lance-shaped to curved adult leaves, flower buds arranged in groups of between eleven and fifteen, white flowers and cup-shaped to conical fruit.\n",
      "Eucalyptus campanulata is a tree that grows to a height of 25 m (80 ft), sometimes 45 m (148 ft) and has rough, finely fibrous, greyish brown bark on the trunk and main branches, smooth whitish bark on the thinner branches. The leaves on young plants are lance-shaped to egg-shaped or curved, 70–130 mm (3–5 in) long, 30–50 mm (1–2 in) wide and bluish or greyish green. The adult leaves are lance-shaped to curved, 90–175 mm (3.5–6.9 in) long and 15–40 mm (0.6–2 in) wide on a petiole 11–23 mm (0.43–0.91 in) long. The leaves are the same bluish green on both surfaces. The flower buds are arranged in groups of between eleven and fifteen on a peduncle 10–20 mm (0.4–0.8 in) long, the individual buds on a pedicel 4–7 mm (0.2–0.3 in) long. Mature buds are club-shaped, 3–5 mm (0.12–0.20 in) long and 3–4 mm (0.12–0.16 in) wide with an operculum as wide as, but shorter than the floral cup. Flowering occurs from October to December and the flowers are white. The fruit is a bell-shaped or conical capsule, 4–6 mm (0.16–0.24 in) long and 4–7 mm (0.16–0.28 in) wide on a pedicel 3–6 mm (0.1–0.2 in) long.[3][4][5]\n",
      "103rd\n",
      "This species is distinguished from E. andrewsii by the shape of the fifth fruit, being bell-shaped rather than cup-shaped.[6th]Eucalyptus campanulata was first formally described in 1912 by Richard Baker and Henry Smith who published the description in Journal and Proceedings of the Royal Society of New South Wales.[7] The specific epithet (campanulata) is a Latin word meaning \"bell-shaped\", referring to the fruit.[3][8]\n",
      "New England blackbutt is widespread and common on fertile soils in wetter areas between south-east Queensland and the southern end of Barrington Tops in New South Wales, especially on the eastern side of the Northern Tablelands.[3][5]\n",
      "A throttle body spacer is usually a 1-inch (25 mm)  01/01/2000 thick piece of metal that is bolted to the outlet of the throttle body of an automotive engine upstream of air flow into the manifold. By changing the airflow, this after-market add-on claims to be a performance enhancing accessory that can increase an engine's horse power, torque and fuel economy. It functions by swirling or directing the air flow to maximize air volume to the manifold. There is much debate about the veracity of the manufacturers' claims for these devices. The general consensus is that it works well on some engine configurations, and not at all or adversely on others. In 2009 the BBK Performance R&D Department performed extensive dyno testing of off the shelf throttle body spacers from other manufacturers. The intention was to determine whether or not throttle body spacers were a viable product that BBK could manufacture that would provide notable results for their customers. The tests were performed on Ford 4.6L 3-V, GM LS, and Mopar HEMI V8 applications using a Dynojet 248th C dynamometer. The tests consisted of a baseline dyno run, cool down period, and a repeat test after the spacers were installed. None of the spacers produced any additional horsepower or torque when tested. The only notable change was a loss of 4 horsepower to the tires on the Mopar application with the spacer installed. An additional test was run after removing the spacer, resulting in a return of the lost horsepower. Proving that some spacers can actually rob power from an engine. After seeing the results, it was clear that throttle body spacers were simply gimmicks and provided no real performance value. BBK scrapped all plans to manufacture throttle body spacers.Engine Costs: $100, ₹7550.63, £90.85\n"
     ]
    }
   ],
   "source": [
    "# Retrieving The Content of the files:\n",
    "resbody = \"\"\n",
    "for obj in bucket.objects.all():\n",
    "    key = obj.key\n",
    "    #print(str(key))\n",
    "    if str(key) in ['files/American_gangster.txt', 'files/Joseph.txt', 'files/Palazzo_colonna.txt', 'files/eucalyptus.txt', 'files/throttle.txt']:\n",
    "        body = obj.get()['Body'].read()\n",
    "        print(body.decode(\"utf-8\"))\n",
    "        resbody += body.decode(\"utf-8\")\n"
   ]
  },
  {
   "cell_type": "markdown",
   "metadata": {},
   "source": [
    "# Storing the Result in txt file"
   ]
  },
  {
   "cell_type": "code",
   "execution_count": 10,
   "metadata": {
    "scrolled": true
   },
   "outputs": [
    {
     "data": {
      "text/plain": [
       "{'ResponseMetadata': {'RequestId': 'JX2FR8P8W471EFV6',\n",
       "  'HostId': 'UGpVXrygiu6CS5yIsuVt97/QYnwA8Y8Q0YeYfB3WfNAXM4rTu8FzSqvmwpy1Qql83t4rjisbqsE=',\n",
       "  'HTTPStatusCode': 200,\n",
       "  'HTTPHeaders': {'x-amz-id-2': 'UGpVXrygiu6CS5yIsuVt97/QYnwA8Y8Q0YeYfB3WfNAXM4rTu8FzSqvmwpy1Qql83t4rjisbqsE=',\n",
       "   'x-amz-request-id': 'JX2FR8P8W471EFV6',\n",
       "   'date': 'Wed, 15 Jun 2022 11:18:29 GMT',\n",
       "   'etag': '\"58174a4564e07949ff2e73853a3dd811\"',\n",
       "   'server': 'AmazonS3',\n",
       "   'content-length': '0'},\n",
       "  'RetryAttempts': 0},\n",
       " 'ETag': '\"58174a4564e07949ff2e73853a3dd811\"'}"
      ]
     },
     "execution_count": 10,
     "metadata": {},
     "output_type": "execute_result"
    }
   ],
   "source": [
    "# Writing combined to result file:\n",
    "s3.Object('aws-3700-bucket', 'Results/combined.txt').put(Body = resbody)"
   ]
  },
  {
   "cell_type": "markdown",
   "metadata": {},
   "source": [
    "# Parsing the text:"
   ]
  },
  {
   "cell_type": "code",
   "execution_count": 11,
   "metadata": {},
   "outputs": [],
   "source": [
    "# Parsing the Body:\n",
    "doc = nlp(resbody)"
   ]
  },
  {
   "cell_type": "code",
   "execution_count": 12,
   "metadata": {},
   "outputs": [
    {
     "name": "stdout",
     "output_type": "stream",
     "text": [
      "American Gangster is the tenth studio album by American rapper Jay-Z. It was conceived as a concept album—inspired by the 01/01/2007 film of the same name—and was released on November 6 of that year through Roc-A-Fella Records.\n",
      "The album features production from Diddy & The Hitmen, Just Blaze, and The Neptunes, among others.\n",
      "It also includes guest appearances by Beanie Sigel, Lil Wayne, Pharrell, and Nas.\n",
      "The album's production is built around 1970s soul and funk, with instruments featured on the album played by professional musicians including, horns, string arrangements, drummers, and unconventional percussion created with bottles.\n",
      "The album's theme is based around the gangster lifestyle, the American Dream, and Jay-Z's memories of growing up in Brooklyn, New York's Marcy.\n",
      "\n",
      "\n",
      "American Gangster received widespread critical acclaim and was viewed by music critics as a return to Jay-Z's best form following the critical disappointment of Kingdom Come (2006).\n",
      "It was ranked among the best albums of 2007 in several publications' year-end lists, including The Austin Chronicle, who ranked it number one.\n",
      "Rolling Stone also named the album's second single, \"Roc Boys (And the Winner Is...)\", the best song of 05/03/2007.\n",
      "\n",
      "\n",
      "The album was also commercial success, debuting at number one on the US Billboard 200, selling over 425,000 copies in its first week.\n",
      "May cost like $165165.\n",
      "This became Jay-Z tenth number one album, tying him with Elvis Presley for the second most number-one albums on the chart.\n",
      "A month after its release, it was certified platinum by the Recording Industry Association of America (RIAA) in December 2007.\n",
      "This would be Jay-Z's last album released under Def Jam Recordings before signing with Live Nation two years later.\n",
      "\n",
      "American Gangster was recorded in sessions at Audiovision Studio and South Beach Studios in Miami; SoundTrap Studios in Atlanta; Hot Beats Recording Studios in Atlanta; and Baseline Studios, Daddy's House, KMA Studios, and Rock The Mic in New York.[1] Jay-Z would have the film – American Gangster – playing on the monitors above the recording booth as a source of motivation during the recording sessions.$1564, ₹89489, £555 .[2]\n",
      "In an interview with MTV, producer LV from The Hitmen said \"Jay would have the beats...He'd do the record, and he'd send it back to us.\n",
      "We'd fill in the blanks as far as making them full records.\n",
      "From having live horns, live strings, live drummers.\n",
      "This percussion dude, he was coming in with bottles, banging on bottles, just sprinkles of shit.\n",
      "We went all out.\n",
      "We brought in musicians to bring it out.\n",
      "Jay probably just heard a sample and some drums.\n",
      "Once we got the vocals back, we brought in all the extra candy\".[3]\n",
      "\n",
      "The Neptunes provide production twice on the album, with the first single \"Blue Magic\" which is the fourteenth track, and the eighth track \"I Know\".[4]\n",
      "Diddy and two of his producers known as LV & Sean C, who are from his production team, The Hitmen, are responsible for six tracks on the album.\n",
      "They are credited with the second single \"Roc Boys (And the Winner Is)...\", \"American Dreamin'\" (where his other production partner Mario Winans assists), \"No Hook\", \"Party Life\", \"Pray\", and finally \"Sweet\".[4] DJ Toomp delivers one track for the album, while Just Blaze is credited for a bonus track and the re-make of \"Ignorant Shit\".[4] Kanye West mentor No I.D. gives two tracks also, one which he co-produces with Jermaine Dupri and vice versa.[4]\n",
      "Finally, three lesser known producers lend hand to the \"Intro\", which is credited to Chris Flames and co-production from Idris \"Driis\" Elba, while Bigg D produces the Beastie Boys-sampling Lil Wayne assisted track, \"Hello Brooklyn 2.0\".[4]\n",
      "\n",
      "Jay-Z originally stated he recorded nine tracks for the album,[5] but the final track listing accumulated fifteen overall cuts (including 2 bonus tracks).[5]\n",
      "Def Jam executive Tracey Waples noted each track from the album would have its own \"mini-film\".\n",
      "The album cover and music videos were costume designed by June\n",
      "Ambrose.[6]Joseph Elmer Yoakum (c. February 22, 1891 22/02/91 – December 25, 1972 25/12/1972)[1] was an American self-taught painter.[2][3]\n",
      "He was of African-American and possibly of Native American–descent, and was known for his landscape paintings in the outsider art-style.[4][5]\n",
      "He was age 76 when he started to record his memories in the form of imaginary landscapes and produced over 2,000 drawings during the last decade of his life.\n",
      "\n",
      "Joseph Elmer Yoakum's biographical information is difficult to verify but he also claimed to be of African, French, and Cherokee descent.[6] New York Times critic Will Heinrich called his biography \"tricky...\n",
      "It’s poorly documented, and the artist himself was not a reliable narrator.\n",
      "\"[7]\n",
      "His birthdates have also been given as 1886, 1888, and 1891, and his Veteran's Administration record says he was born in Springfield, Missouri.[8]\n",
      "\n",
      "Yoakum was born in Ash Grove, Missouri, but told a story of being born in Arizona, in 1888, as a Navajo Indian on the Window Rock Navajo reservation.[2][9][10] Taking pride in his invented Native heritage, Yoakum would pronounce \"Navajo\" as \"Na-va-JOE\" (as in \"Joseph\").\n",
      "He spent his early childhood on a Missouri farm.[11]\n",
      "\n",
      "Yoakum left home when he was nine years old to join the Great Wallace Circus.\n",
      "As a bill poster, he also traveled across the U.S. with Buffalo Bill's Wild West Show and the Ringling Brothers, among the five different circuses.\n",
      "He later traveled to Europe as a stowaway.\n",
      "\n",
      "\n",
      "In 1908, he returned to Missouri and started a family with his girlfriend Myrtle Julian, with whom he had his first son in 1909; the couple married in 1910.[12] Around 1916, he worked in a coal mine, Hale Coal and Mining to support his family.[12] Yoakum was drafted into the United States Army in 1918 and worked in the 805th Pioneer Infantry repairing roads and railroads.[12]\n",
      "After the war, he traveled around the United States, working odd jobs, but never returned to his family.\n",
      "He later remarried and moved to Chicago.\n",
      "In 1946, Yoakum was committed to a psychiatric hospital there.\n",
      "He soon left and by the early 1950s he was drawing on a regular basis.\n",
      "\n",
      "Yoakum was again living and painting in Chicago by 1962.\n",
      "Tom Brand, owner of Galaxy Press on the south side of Chicago, in 1968 had some printing to deliver to a coffee shop called \"The Whole\".\n",
      "While there he noticed the colored pencil drawings of Yoakum and was immediately taken by them.\n",
      "Brand had an account with the Ed Sherbyn Gallery on the north side of Chicago, and he persuaded Sherbyn to exhibit Yoakum's works and even printed his own poster for this show.\n",
      "Norman Mark of The Chicago Daily News wrote an article about Yoakum called \"My drawings are a spiritual unfoldment\"; this article was printed on the back of the poster.\n",
      "Brand informed his artist friends (including Whitney Halstead) about Yoakum and encouraged them to visit \"The Whole\" coffee shop.\n",
      "Halstead, an artist and instructor at the School of the Art Institute of Chicago, became the greatest promoter of Yoakum's work during his lifetime.\n",
      "He believed that his story was \"more invention than reality... in part myth, Yoakum's life as he would have wished to have lived it.\n",
      "\"[12]\n",
      "\n",
      "In 1967, Yoakum was discovered by the mainstream art community through John Hopgood, an instructor at the twelfth Chicago State College, who saw Yoakum's work hanging in his studio window and purchased twenty-two pictures.\n",
      "A group of students including Roger Brown, Gladys Nilsson, Jim Nutt, and Barbara Rossi, and teachers at the School of the Art Institute of Chicago, including Ray Yoshida and Whitney Halstead, took an interest in promoting his work.\n",
      "In 1972, just one month before his death, Yoakum was given a one-man show at the Whitney Museum in New York City.[13]\n",
      "\n",
      "He started drawing familiar places, such as Green Valley Ashville Kentucky, as a method to capture his memories.\n",
      "However, he shifted towards imaginary landscapes in places he had never visited, like Mt Cloubelle of West India or Mt Mowbullan in Dividing Range near Brisbane Australia.\n",
      "Drawing outlines with ballpoint pen, rarely making corrections, he colored his drawings within the lines using watercolors and pastels.\n",
      "He became known for his organic forms, always using two lines to designate land masses.\n",
      "\n",
      "\n",
      "During the final four months of his life Yoakum's work was marked by a use of pure abstraction, as in his illustration Flooding of Sock River through Ash Grove Mo [Missouri] on July 4, 1914 in that [waters] drove many persons from Homes I were with the Groupe leiving\n",
      "[sic] their homes for safety.\n",
      "That painting was one of his autobiographical works.\n",
      "\n",
      "\n",
      "In 2021, the Museum of Modern Art presented more than 100 of his works in an exhibition called Joseph E. Yoakum: What I Saw.[14]\n",
      "It was organized by the Art Institute of Chicago, the Museum of Modern Art, and the Menil Drawing Institute, which is part of the Menil Collection.[7]The\n",
      "Palazzo Colonna (Italian pronunciation:\n",
      "[paˈlattso koˈlonna, - koˈlɔnna]) is a palatial block of buildings in central Rome, Italy, at the base of the Quirinal Hill, and adjacent to the church of Santi Apostoli.\n",
      "It is built in part over the ruins of an old Roman serapeum, and it has belonged to the prominent Colonna family for over twenty generations.\n",
      "\n",
      "The first part of the palace dates from the 13th century, and tradition holds that the building hosted Dante during his visit to Rome.\n",
      "The first documentary mention notes that the property hosted Cardinals Giovanni and Giacomo Colonna in the 13th century.\n",
      "It was also home to Cardinal Oddone Colonna before he ascended to the papacy as Pope Martin V in 1417.\n",
      "\n",
      "\n",
      "With his passing, the palace was sacked during feuds, and the main property passed into the hands of the Della Rovere family.\n",
      "It returned to the Colonna family when Marcantonio I Colonna married Lucrezia Gara Franciotti Della Rovere, the niece of Pope Julius II.\n",
      "The Colonna family's alliance to the Habsburg power likely protected the palace from looting during the Sack of Rome (1527).\n",
      "\n",
      "\n",
      "Starting with Filippo Colonna (1578–1639) 01/12/1578 to 25/03/39, many changes have refurbished and create a unitary complex around a central garden.\n",
      "Architects including Girolamo Rainaldi and Paolo Marucelli labored on specific projects.\n",
      "Only in the 17th and 18th centuries were the main facades completed, one facing Piazza SS.\n",
      "Apostoli and the other facing Via della Pilotta.\n",
      "Much of this design was completed by Antonio del Grande (including the grand gallery) and Girolamo Fontana (decoration of the gallery).\n",
      "In the 18th century, the long low facade designed by Nicola Michetti, with later additions by Paolo Posi with taller corner blocks (facing Piazza SS.\n",
      "Apostoli), was constructed and recalls earlier structures resembling a fortification.\n",
      "The main gallery (completed 1703) and the masterful Colonna art collection was acquired after 1650 by both the cardinal Girolamo I Colonna and his nephew, the Connestabile Lorenzo Onofrio Colonna.\n",
      "It includes works by Lorenzo Monaco, Domenico Ghirlandaio, Palma the Elder, Salviati, Bronzino, Tintoretto, Pietro da Cortona, Annibale Carracci (painting of The Beaneater), Guercino, Francesco Albani, Muziano and Guido Reni.\n",
      "Ceiling frescoes by Filippo Gherardi, Giovanni Coli, Sebastiano Ricci, and Giuseppe Bartolomeo Chiari celebrate the role of Marcantonio II Colonna in the battle of Lepanto (1571).\n",
      "An Apotheosis of Martin V was painted by Benedetto Luti.\n",
      "There are frescoed apartments completed after 1664 by Crescenzio Onofri, Gaspard Dughet and Pieter Mulier II (nicknamed \"Cavalier Tempesta\").\n",
      "Other rooms were frescoed in the 18th century by Pompeo Batoni and Pietro Bianchi.\n",
      "\n",
      "\n",
      "The older wing of the complex, now known as Princess Isabelle's apartments, but once housing Martin V's library and palace, contains frescoes by Pinturicchio, Antonio Tempesta, Crescenzio Onofri, Giacinto Gimignani, and Carlo Cesi.\n",
      "It also contains a collection of landscapes and genre scenes by painters like Gaspard Dughet, Caspar Van Wittel (Vanvitelli), and Jan Brueghel the Elder.\n",
      "\n",
      "\n",
      "Along with the possessions of the Doria-Pamphilij the 456th and Pallavicini-Rospigliosi families, this is one of the largest private art collections in Rome.$500, ₹200, £600\n",
      "\n",
      "The ending scene from the 1953 classic film Roman Holiday, starring Audrey Hepburn and Gregory Peck, was shot at the gallery.\n",
      "Eucalyptus campanulata, commonly known as the New England blackbutt, gum-topped peppermint[3] or New England ash,[4th] is a tree that is endemic to eastern Australia.\n",
      "It has rough, finely fibrous greyish bark on the trunk and larger branches, lance-shaped to curved adult leaves, flower buds arranged in groups of between eleven and fifteen, white flowers and cup-shaped to conical fruit.\n",
      "\n",
      "Eucalyptus campanulata is a tree that grows to a height of 25 m (80 ft), sometimes 45 m (148 ft) and has rough, finely fibrous, greyish brown bark on the trunk and main branches, smooth whitish bark on the thinner branches.\n",
      "The leaves on young plants are lance-shaped to egg-shaped or curved, 70–130 mm (3–5 in) long, 30–50 mm (1–2 in) wide and bluish or greyish green.\n",
      "The adult leaves are lance-shaped to curved, 90–175 mm (3.5–6.9 in) long and 15–40 mm (0.6–2 in) wide on a petiole 11–23 mm (0.43–0.91 in) long.\n",
      "The leaves are the same bluish green on both surfaces.\n",
      "The flower buds are arranged in groups of between eleven and fifteen on a peduncle 10–20 mm (0.4–0.8 in) long, the individual buds on a pedicel 4–7 mm (0.2–0.3 in) long.\n",
      "Mature buds are club-shaped, 3–5 mm (0.12–0.20 in) long and 3–4 mm (0.12–0.16 in) wide with an operculum as wide as, but shorter than the floral cup.\n",
      "Flowering occurs from October to December and the flowers are white.\n",
      "The fruit is a bell-shaped or conical capsule, 4–6 mm (0.16–0.24 in) long and 4–7 mm (0.16–0.28 in) wide on a pedicel 3–6 mm (0.1–0.2 in) long.[3][4][5]\n",
      "103rd\n",
      "This species is distinguished from E. andrewsii by the shape of the fifth fruit, being bell-shaped rather than cup-shaped.[6th]Eucalyptus campanulata was first formally described in 1912 by Richard Baker and Henry Smith who published the description in Journal and Proceedings of the Royal Society of New South Wales.[7]\n",
      "The specific epithet (campanulata) is a Latin word meaning \"bell-shaped\", referring to the fruit.[3][8]\n",
      "New England blackbutt is widespread and common on fertile soils in wetter areas between south-east Queensland and the southern end of Barrington Tops in New South Wales, especially on the eastern side of the Northern Tablelands.[3][5]A throttle body spacer is usually a 1-inch (25 mm)  01/01/2000 thick piece of metal that is bolted to the outlet of the throttle body of an automotive engine upstream of air flow into the manifold.\n",
      "By changing the airflow, this after-market add-on claims to be a performance enhancing accessory that can increase an engine's horse power, torque and fuel economy.\n",
      "It functions by swirling or directing the air flow to maximize air volume to the manifold.\n",
      "There is much debate about the veracity of the manufacturers' claims for these devices.\n",
      "The general consensus is that it works well on some engine configurations, and not at all or adversely on others.\n",
      "In 2009 the BBK Performance R&D Department performed extensive dyno testing of off the shelf throttle body spacers from other manufacturers.\n",
      "The intention was to determine whether or not throttle body spacers were a viable product that BBK could manufacture that would provide notable results for their customers.\n",
      "The tests were performed on Ford 4.6L 3-V, GM LS, and Mopar HEMI V8 applications using a Dynojet 248th C dynamometer.\n",
      "The tests consisted of a baseline dyno run, cool down period, and a repeat test after the spacers were installed.\n",
      "None of the spacers produced any additional horsepower or torque when tested.\n",
      "The only notable change was a loss of 4 horsepower to the tires on the Mopar application with the spacer installed.\n",
      "An additional test was run after removing the spacer, resulting in a return of the lost horsepower.\n",
      "Proving that some spacers can actually rob power from an engine.\n",
      "After seeing the results, it was clear that throttle body spacers were simply gimmicks and provided no real performance value.\n",
      "BBK scrapped all plans to manufacture throttle body spacers.\n",
      "Engine Costs: $100, ₹7550.63, £90.85\n"
     ]
    }
   ],
   "source": [
    "# Printing Sentences:\n",
    "for sent in doc.sents:\n",
    "    print(sent.text)"
   ]
  },
  {
   "cell_type": "code",
   "execution_count": 13,
   "metadata": {},
   "outputs": [
    {
     "name": "stdout",
     "output_type": "stream",
     "text": [
      "112\n"
     ]
    }
   ],
   "source": [
    "# Number of sentences in the document\n",
    "print(len(list(doc.sents)))"
   ]
  },
  {
   "cell_type": "markdown",
   "metadata": {},
   "source": [
    "# Cleaning the Text:\n",
    "## Removing the STOP WORDS and Performing Stemming of the words:"
   ]
  },
  {
   "cell_type": "code",
   "execution_count": 14,
   "metadata": {},
   "outputs": [],
   "source": [
    "REPLACE_BY_SPACE_RE = re.compile('[/(){}\\[\\]\\|@,;]')\n",
    "BAD_SYMBOLS_RE = re.compile('[^0-9a-z #+_]')\n",
    "REMOVE_NUM = re.compile('[\\d+]')\n",
    "STOPWORDS = set(stopwords.words('english'))\n",
    "\n",
    "def clean_text(text):\n",
    "    # lowercase text\n",
    "    text = text.lower() \n",
    "\n",
    "    # replace REPLACE_BY_SPACE_RE symbols by space in text\n",
    "    text = REPLACE_BY_SPACE_RE.sub(' ', text) \n",
    "    \n",
    "    # Remove the XXXX values\n",
    "    text = text.replace('x', '') \n",
    "    \n",
    "    # Remove white space\n",
    "    text = REMOVE_NUM.sub('', text)\n",
    "\n",
    "    #  delete symbols which are in BAD_SYMBOLS_RE from text\n",
    "    text = BAD_SYMBOLS_RE.sub('', text) \n",
    "\n",
    "    # delete stopwords from text\n",
    "    text = ' '.join(word for word in text.split() if word not in STOPWORDS) \n",
    "    \n",
    "    # removes any words composed of less than 2 or more than 21 letters\n",
    "    text = ' '.join(word for word in text.split() if (len(word) >= 2 and len(word) <= 21))\n",
    "\n",
    "    # Stemming the words\n",
    "    text = ' '.join([stemmer.stem(word) for word in text.split()])\n",
    "    \n",
    "    return text"
   ]
  },
  {
   "cell_type": "code",
   "execution_count": 16,
   "metadata": {},
   "outputs": [
    {
     "name": "stdout",
     "output_type": "stream",
     "text": [
      "american gangster tenth studio album american rapper jayz conceiv concept albuminspir film nameand releas novemb year rocafella record album featur product diddi hitmen blaze neptun among other also includ guest appear beani sigel lil wayn pharrel na album product built around soul funk instrument featur album play profession musician includ horn string arrang drummer unconvent percuss creat bottl album theme base around gangster lifestyl american dream jayz memori grow brooklyn new york marcyamerican gangster receiv widespread critic acclaim view music critic return jayz best form follow critic disappoint kingdom come rank among best album sever public yearend list includ austin chronicl rank number one roll stone also name album second singl roc boy winner best song album also commerci success debut number one us billboard sell copi first week may cost like becam jayz tenth number one album tie elvi presley second numberon album chart month releas certifi platinum record industri associ america riaa decemb would jayz last album releas def jam record sign live nation two year lateramerican gangster record session audiovis studio south beach studio miami soundtrap studio atlanta hot beat record studio atlanta baselin studio daddi hous kma studio rock mic new york jayz would film american gangster play monitor record booth sourc motiv record session interview mtv produc lv hitmen said jay would beatsh record hed send back us wed fill blank far make full record live horn live string live drummer percuss dude come bottl bang bottl sprinkl shit went brought musician bring jay probabl heard sampl drum got vocal back brought etra candi neptun provid product twice album first singl blue magic fourteenth track eighth track know diddi two produc known lv sean product team hitmen respons si track album credit second singl roc boy winner american dreamin product partner mario winan assist hook parti life pray final sweet dj toomp deliv one track album blaze credit bonu track remak ignor shit kany west mentor id give two track also one coproduc jermain dupri vice versa final three lesser known produc lend hand intro credit chri flame coproduct idri drii elba bigg produc beasti boyssampl lil wayn assist track hello brooklyn jayz origin state record nine track album final track list accumul fifteen overal cut includ bonu track def jam eecut tracey wapl note track album would minifilm album cover music video costum design june ambros joseph elmer yoakum februari decemb american selftaught painter africanamerican possibl nativ americandesc known landscap paint outsid artstyl age start record memori form imaginari landscap produc draw last decad lifejoseph elmer yoakum biograph inform difficult verifi also claim african french cheroke descent new york time critic heinrich call biographi trickyit poorli document artist reliabl narrat birthdat also given veteran administr record say born springfield missouri yoakum born ash grove missouri told stori born arizona navajo indian window rock navajo reserv take pride invent nativ heritag yoakum would pronounc navajo navajo joseph spent earli childhood missouri farm yoakum left home nine year old join great wallac circu bill poster also travel across us buffalo bill wild west show ringl brother among five differ circus later travel europ stowawayin return missouri start famili girlfriend myrtl julian first son coupl marri around work coal mine hale coal mine support famili yoakum draft unit state armi work th pioneer infantri repair road railroad war travel around unit state work odd job never return famili later remarri move chicago yoakum commit psychiatr hospit soon left earli draw regular basisyoakum live paint chicago tom brand owner galay press south side chicago print deliv coffe shop call whole notic color pencil draw yoakum immedi taken brand account ed sherbyn galleri north side chicago persuad sherbyn ehibit yoakum work even print poster show norman mark chicago daili news wrote articl yoakum call draw spiritu unfold articl print back poster brand inform artist friend includ whitney halstead yoakum encourag visit whole coffe shop halstead artist instructor school art institut chicago becam greatest promot yoakum work lifetim believ stori invent realiti part myth yoakum life would wish live yoakum discov mainstream art commun john hopgood instructor twelfth chicago state colleg saw yoakum work hang studio window purchas twentytwo pictur group student includ roger brown gladi nilsson jim nutt barbara rossi teacher school art institut chicago includ ray yoshida whitney halstead took interest promot work one month death yoakum given oneman show whitney museum new york citi start draw familiar place green valley ashvil kentucki method captur memori howev shift toward imaginari landscap place never visit like mt cloubel west india mt mowbullan divid rang near brisban australia draw outlin ballpoint pen rare make correct color draw within line use watercolor pastel becam known organ form alway use two line design land massesdur final four month life yoakum work mark use pure abstract illustr flood sock river ash grove mo missouri juli water drove mani person home group leiv sic home safeti paint one autobiograph worksin museum modern art present work ehibit call joseph yoakum saw organ art institut chicago museum modern art menil draw institut part menil collect palazzo colonna italian pronunci palattso kolonna kolnna palati block build central rome itali base quirin hill adjac church santi apostoli built part ruin old roman serapeum belong promin colonna famili twenti generationsth first part palac date th centuri tradit hold build host dant visit rome first documentari mention note properti host cardin giovanni giacomo colonna th centuri also home cardin oddon colonna ascend papaci pope martin pass palac sack feud main properti pass hand della rover famili return colonna famili marcantonio colonna marri lucrezia gara franciotti della rover niec pope juliu ii colonna famili allianc habsburg power like protect palac loot sack rome start filippo colonna mani chang refurbish creat unitari compl around central garden architect includ girolamo rainaldi paolo marucelli labor specif project th th centuri main facad complet one face piazza ss apostoli face via della pilotta much design complet antonio del grand includ grand galleri girolamo fontana decor galleri th centuri long low facad design nicola michetti later addit paolo posi taller corner block face piazza ss apostoli construct recal earlier structur resembl fortificationth main galleri complet master colonna art collect acquir cardin girolamo colonna nephew connestabil lorenzo onofrio colonna includ work lorenzo monaco domenico ghirlandaio palma elder salviati bronzino tintoretto pietro da cortona annibal carracci paint beaneat guercino francesco albani muziano guido reni ceil fresco filippo gherardi giovanni coli sebastiano ricci giusepp bartolomeo chiari celebr role marcantonio ii colonna battl lepanto apotheosi martin paint benedetto luti fresco apart complet crescenzio onofri gaspard dughet pieter mulier ii nicknam cavali tempesta room fresco th centuri pompeo batoni pietro bianchith older wing compl known princess isabel apart hous martin vs librari palac contain fresco pinturicchio antonio tempesta crescenzio onofri giacinto gimignani carlo cesi also contain collect landscap genr scene painter like gaspard dughet caspar van wittel vanvitelli jan brueghel elderalong possess doriapamphilij th famili one largest privat art collect rome end scene classic film roman holiday star audrey hepburn gregori peck shot galleryeucalyptu campanulata commonli known new england blackbutt gumtop peppermint new england ash th tree endem eastern australia rough fine fibrou greyish bark trunk larger branch lanceshap curv adult leav flower bud arrang group eleven fifteen white flower cupshap conic fruiteucalyptu campanulata tree grow height ft sometim ft rough fine fibrou greyish brown bark trunk main branch smooth whitish bark thinner branch leav young plant lanceshap eggshap curv mm long mm wide bluish greyish green adult leav lanceshap curv mm long mm wide petiol mm long leav bluish green surfac flower bud arrang group eleven fifteen peduncl mm long individu bud pedicel mm long matur bud clubshap mm long mm wide operculum wide shorter floral cup flower occur octob decemb flower white fruit bellshap conic capsul mm long mm wide pedicel mm long rdthi speci distinguish andrewsii shape fifth fruit bellshap rather cupshap th eucalyptu campanulata first formal describ richard baker henri smith publish descript journal proceed royal societi new south wale specif epithet campanulata latin word mean bellshap refer fruit new england blackbutt widespread common fertil soil wetter area southeast queensland southern end barrington top new south wale especi eastern side northern tableland throttl bodi spacer usual inch mm thick piec metal bolt outlet throttl bodi automot engin upstream air flow manifold chang airflow aftermarket addon claim perform enhanc accessori increas engin hors power torqu fuel economi function swirl direct air flow maimiz air volum manifold much debat verac manufactur claim devic gener consensu work well engin configur advers other bbk perform rd depart perform etens dyno test shelf throttl bodi spacer manufactur intent determin whether throttl bodi spacer viabl product bbk could manufactur would provid notabl result custom test perform ford gm ls mopar hemi applic use dynojet th dynamomet test consist baselin dyno run cool period repeat test spacer instal none spacer produc addit horsepow torqu test notabl chang loss horsepow tire mopar applic spacer instal addit test run remov spacer result return lost horsepow prove spacer actual rob power engin see result clear throttl bodi spacer simpli gimmick provid real perform valu bbk scrap plan manufactur throttl bodi spacersengin cost\n"
     ]
    }
   ],
   "source": [
    "stem_body = clean_text(resbody)\n",
    "print(stem_body)"
   ]
  },
  {
   "cell_type": "markdown",
   "metadata": {},
   "source": [
    "# Storing Final text in the Results Folder"
   ]
  },
  {
   "cell_type": "code",
   "execution_count": 17,
   "metadata": {},
   "outputs": [
    {
     "data": {
      "text/plain": [
       "{'ResponseMetadata': {'RequestId': 'HTYP0RD5ZCJ3BR3X',\n",
       "  'HostId': 'Rn73A3lO3ig5vQZfvjltVojGqpac556tAjlx1gWBVr5FbeSrePoQ3a2r2Sw977aHzQ9lJXWkk+A=',\n",
       "  'HTTPStatusCode': 200,\n",
       "  'HTTPHeaders': {'x-amz-id-2': 'Rn73A3lO3ig5vQZfvjltVojGqpac556tAjlx1gWBVr5FbeSrePoQ3a2r2Sw977aHzQ9lJXWkk+A=',\n",
       "   'x-amz-request-id': 'HTYP0RD5ZCJ3BR3X',\n",
       "   'date': 'Wed, 15 Jun 2022 11:19:50 GMT',\n",
       "   'etag': '\"31a70e956eda4d3a35883be3818369c3\"',\n",
       "   'server': 'AmazonS3',\n",
       "   'content-length': '0'},\n",
       "  'RetryAttempts': 0},\n",
       " 'ETag': '\"31a70e956eda4d3a35883be3818369c3\"'}"
      ]
     },
     "execution_count": 17,
     "metadata": {},
     "output_type": "execute_result"
    }
   ],
   "source": [
    "# Writing to result file:\n",
    "s3.Object('aws-3700-bucket', 'Results/result.txt').put(Body = stem_body)"
   ]
  },
  {
   "cell_type": "markdown",
   "metadata": {},
   "source": [
    "# Label Encoding of the Words:"
   ]
  },
  {
   "cell_type": "code",
   "execution_count": 18,
   "metadata": {},
   "outputs": [
    {
     "name": "stdout",
     "output_type": "stream",
     "text": [
      "[ 28 325 789 ... 100 759 186]\n"
     ]
    }
   ],
   "source": [
    "labelencoder = LabelEncoder()\n",
    "encoded_data = labelencoder.fit_transform(stem_body.split())\n",
    "print(encoded_data)"
   ]
  },
  {
   "cell_type": "markdown",
   "metadata": {},
   "source": [
    "# K-means Clustering :"
   ]
  },
  {
   "cell_type": "code",
   "execution_count": 27,
   "metadata": {},
   "outputs": [
    {
     "data": {
      "text/plain": [
       "array([1, 3, 2, ..., 1, 2, 1], dtype=int32)"
      ]
     },
     "execution_count": 27,
     "metadata": {},
     "output_type": "execute_result"
    }
   ],
   "source": [
    "x = encoded_data.reshape(-1, 1)\n",
    "kmeans = KMeans(n_clusters=4, random_state = 42).fit(x)\n",
    "y = kmeans.predict(x)\n",
    "y"
   ]
  },
  {
   "cell_type": "code",
   "execution_count": 28,
   "metadata": {},
   "outputs": [
    {
     "data": {
      "text/plain": [
       "array([[ 28],\n",
       "       [325],\n",
       "       [789],\n",
       "       ...,\n",
       "       [100],\n",
       "       [759],\n",
       "       [186]])"
      ]
     },
     "execution_count": 28,
     "metadata": {},
     "output_type": "execute_result"
    }
   ],
   "source": [
    "x"
   ]
  },
  {
   "cell_type": "code",
   "execution_count": 20,
   "metadata": {},
   "outputs": [
    {
     "name": "stdout",
     "output_type": "stream",
     "text": [
      "[[537.71867008]\n",
      " [ 99.44235925]\n",
      " [780.19095477]\n",
      " [319.21813031]]\n"
     ]
    }
   ],
   "source": [
    "print(kmeans.cluster_centers_)"
   ]
  },
  {
   "cell_type": "code",
   "execution_count": 31,
   "metadata": {},
   "outputs": [
    {
     "data": {
      "image/png": "[encoded data removed]",
      "text/plain": [
       "<Figure size 600x600 with 1 Axes>"
      ]
     },
     "metadata": {},
     "output_type": "display_data"
    }
   ],
   "source": [
    "plt.figure(figsize=(6,6))\n",
    "plt.scatter(y, [i for i in encoded_data], c=y, cmap='prism', marker='.', s=180, alpha=0.2)\n",
    "plt.scatter([0,1,2,3], kmeans.cluster_centers_,  color='black', marker='o', s=100)\n",
    "plt.xlabel('K (Cluster Number)')\n",
    "plt.ylabel('Points (Label Encodings of Token)')\n",
    "plt.title('K-Means on Label Encoded Text')\n",
    "plt.show()"
   ]
  }
 ],
 "metadata": {
  "instance_type": "ml.t3.medium",
  "kernelspec": {
   "display_name": "Python 3 (Data Science)",
   "language": "python",
   "name": "python3__SAGEMAKER_INTERNAL__arn:aws:sagemaker:us-west-2:236514542706:image/datascience-1.0"
  },
  "language_info": {
   "codemirror_mode": {
    "name": "ipython",
    "version": 3
   },
   "file_extension": ".py",
   "mimetype": "text/x-python",
   "name": "python",
   "nbconvert_exporter": "python",
   "pygments_lexer": "ipython3",
   "version": "3.7.10"
  }
 },
 "nbformat": 4,
 "nbformat_minor": 5
}
