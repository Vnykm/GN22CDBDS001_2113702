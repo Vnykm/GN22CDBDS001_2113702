{
  "nbformat": 4,
  "nbformat_minor": 0,
  "metadata": {
    "colab": {
      "name": "ARIMA _Search.ipynb",
      "provenance": [],
      "authorship_tag": "ABX9TyOJjfZPYdREiYsYYAejFHPi",
      "include_colab_link": true
    },
    "kernelspec": {
      "name": "python3",
      "display_name": "Python 3"
    },
    "language_info": {
      "name": "python"
    }
  },
  "cells": [
    {
      "cell_type": "markdown",
      "metadata": {
        "id": "view-in-github",
        "colab_type": "text"
      },
      "source": [
        "<a href=\"https://colab.research.google.com/github/Vnykm/GN22CDBDS001_2113702/blob/main/ARIMA__Search.ipynb\" target=\"_parent\"><img src=\"https://colab.research.google.com/assets/colab-badge.svg\" alt=\"Open In Colab\"/></a>"
      ]
    },
    {
      "cell_type": "code",
      "execution_count": 25,
      "metadata": {
        "id": "A-PrVUpGNCmc"
      },
      "outputs": [],
      "source": [
        "import pandas as pd\n",
        "import matplotlib.pyplot as plt\n",
        "import numpy as np"
      ]
    },
    {
      "cell_type": "code",
      "source": [
        "!wget https://github.com/a-forty-two/COG_GN22CDBDS001_MARCH_22/blob/main/LifeUniverseAndEverything.xlsx?raw=true"
      ],
      "metadata": {
        "colab": {
          "base_uri": "https://localhost:8080/"
        },
        "id": "7nfLmD1pPdWw",
        "outputId": "abe0c0c1-6f3e-48ad-ee64-385854517d05"
      },
      "execution_count": 9,
      "outputs": [
        {
          "output_type": "stream",
          "name": "stdout",
          "text": [
            "--2022-03-31 04:32:13--  https://github.com/a-forty-two/COG_GN22CDBDS001_MARCH_22/blob/main/LifeUniverseAndEverything.xlsx?raw=true\n",
            "Resolving github.com (github.com)... 140.82.114.4\n",
            "Connecting to github.com (github.com)|140.82.114.4|:443... connected.\n",
            "HTTP request sent, awaiting response... 302 Found\n",
            "Location: https://github.com/a-forty-two/COG_GN22CDBDS001_MARCH_22/raw/main/LifeUniverseAndEverything.xlsx [following]\n",
            "--2022-03-31 04:32:13--  https://github.com/a-forty-two/COG_GN22CDBDS001_MARCH_22/raw/main/LifeUniverseAndEverything.xlsx\n",
            "Reusing existing connection to github.com:443.\n",
            "HTTP request sent, awaiting response... 302 Found\n",
            "Location: https://raw.githubusercontent.com/a-forty-two/COG_GN22CDBDS001_MARCH_22/main/LifeUniverseAndEverything.xlsx [following]\n",
            "--2022-03-31 04:32:13--  https://raw.githubusercontent.com/a-forty-two/COG_GN22CDBDS001_MARCH_22/main/LifeUniverseAndEverything.xlsx\n",
            "Resolving raw.githubusercontent.com (raw.githubusercontent.com)... 185.199.109.133, 185.199.110.133, 185.199.111.133, ...\n",
            "Connecting to raw.githubusercontent.com (raw.githubusercontent.com)|185.199.109.133|:443... connected.\n",
            "HTTP request sent, awaiting response... 200 OK\n",
            "Length: 23758 (23K) [application/octet-stream]\n",
            "Saving to: ‘LifeUniverseAndEverything.xlsx?raw=true’\n",
            "\n",
            "LifeUniverseAndEver 100%[===================>]  23.20K  --.-KB/s    in 0.001s  \n",
            "\n",
            "2022-03-31 04:32:13 (18.5 MB/s) - ‘LifeUniverseAndEverything.xlsx?raw=true’ saved [23758/23758]\n",
            "\n"
          ]
        }
      ]
    },
    {
      "cell_type": "code",
      "source": [
        "!cp LifeUniverseAndEverything.xlsx?raw=true LifeUniverseAndEverything.xlsx"
      ],
      "metadata": {
        "id": "DVub9TUjPt5H"
      },
      "execution_count": 10,
      "outputs": []
    },
    {
      "cell_type": "code",
      "source": [
        "exclfile = 'LifeUniverseAndEverything.xlsx'\n",
        "data = pd.read_excel(exclfile)\n",
        "data"
      ],
      "metadata": {
        "colab": {
          "base_uri": "https://localhost:8080/",
          "height": 424
        },
        "id": "UvuDZQRaNLj2",
        "outputId": "8bcbaec3-4254-4f53-c1ba-9a6d9b214d6a"
      },
      "execution_count": 11,
      "outputs": [
        {
          "output_type": "execute_result",
          "data": {
            "text/plain": [
              "     Life  O2  O3  H2O  N2  H2  Sunlight  Aliens  Plants\n",
              "0       5   6  38   48  25  38         0       1       1\n",
              "1       4   0   4    2   6  13         0       1       0\n",
              "2       4  11   3   78  30  15         0       0       1\n",
              "3       0  22  30   68  28  23         0       1       0\n",
              "4      10  20  23   56  20  27         1       0       1\n",
              "..    ...  ..  ..  ...  ..  ..       ...     ...     ...\n",
              "195    10  24   0   90  24  26         0       1       1\n",
              "196    10  21   6   75  34   4         0       0       0\n",
              "197     0  13   8   42  18   2         0       0       1\n",
              "198     0   4  38    2  21   4         1       0       1\n",
              "199     2  16  31   47  17  33         0       1       1\n",
              "\n",
              "[200 rows x 9 columns]"
            ],
            "text/html": [
              "\n",
              "  <div id=\"df-523c2dcc-0a7a-4487-9a83-3e60d6321341\">\n",
              "    <div class=\"colab-df-container\">\n",
              "      <div>\n",
              "<style scoped>\n",
              "    .dataframe tbody tr th:only-of-type {\n",
              "        vertical-align: middle;\n",
              "    }\n",
              "\n",
              "    .dataframe tbody tr th {\n",
              "        vertical-align: top;\n",
              "    }\n",
              "\n",
              "    .dataframe thead th {\n",
              "        text-align: right;\n",
              "    }\n",
              "</style>\n",
              "<table border=\"1\" class=\"dataframe\">\n",
              "  <thead>\n",
              "    <tr style=\"text-align: right;\">\n",
              "      <th></th>\n",
              "      <th>Life</th>\n",
              "      <th>O2</th>\n",
              "      <th>O3</th>\n",
              "      <th>H2O</th>\n",
              "      <th>N2</th>\n",
              "      <th>H2</th>\n",
              "      <th>Sunlight</th>\n",
              "      <th>Aliens</th>\n",
              "      <th>Plants</th>\n",
              "    </tr>\n",
              "  </thead>\n",
              "  <tbody>\n",
              "    <tr>\n",
              "      <th>0</th>\n",
              "      <td>5</td>\n",
              "      <td>6</td>\n",
              "      <td>38</td>\n",
              "      <td>48</td>\n",
              "      <td>25</td>\n",
              "      <td>38</td>\n",
              "      <td>0</td>\n",
              "      <td>1</td>\n",
              "      <td>1</td>\n",
              "    </tr>\n",
              "    <tr>\n",
              "      <th>1</th>\n",
              "      <td>4</td>\n",
              "      <td>0</td>\n",
              "      <td>4</td>\n",
              "      <td>2</td>\n",
              "      <td>6</td>\n",
              "      <td>13</td>\n",
              "      <td>0</td>\n",
              "      <td>1</td>\n",
              "      <td>0</td>\n",
              "    </tr>\n",
              "    <tr>\n",
              "      <th>2</th>\n",
              "      <td>4</td>\n",
              "      <td>11</td>\n",
              "      <td>3</td>\n",
              "      <td>78</td>\n",
              "      <td>30</td>\n",
              "      <td>15</td>\n",
              "      <td>0</td>\n",
              "      <td>0</td>\n",
              "      <td>1</td>\n",
              "    </tr>\n",
              "    <tr>\n",
              "      <th>3</th>\n",
              "      <td>0</td>\n",
              "      <td>22</td>\n",
              "      <td>30</td>\n",
              "      <td>68</td>\n",
              "      <td>28</td>\n",
              "      <td>23</td>\n",
              "      <td>0</td>\n",
              "      <td>1</td>\n",
              "      <td>0</td>\n",
              "    </tr>\n",
              "    <tr>\n",
              "      <th>4</th>\n",
              "      <td>10</td>\n",
              "      <td>20</td>\n",
              "      <td>23</td>\n",
              "      <td>56</td>\n",
              "      <td>20</td>\n",
              "      <td>27</td>\n",
              "      <td>1</td>\n",
              "      <td>0</td>\n",
              "      <td>1</td>\n",
              "    </tr>\n",
              "    <tr>\n",
              "      <th>...</th>\n",
              "      <td>...</td>\n",
              "      <td>...</td>\n",
              "      <td>...</td>\n",
              "      <td>...</td>\n",
              "      <td>...</td>\n",
              "      <td>...</td>\n",
              "      <td>...</td>\n",
              "      <td>...</td>\n",
              "      <td>...</td>\n",
              "    </tr>\n",
              "    <tr>\n",
              "      <th>195</th>\n",
              "      <td>10</td>\n",
              "      <td>24</td>\n",
              "      <td>0</td>\n",
              "      <td>90</td>\n",
              "      <td>24</td>\n",
              "      <td>26</td>\n",
              "      <td>0</td>\n",
              "      <td>1</td>\n",
              "      <td>1</td>\n",
              "    </tr>\n",
              "    <tr>\n",
              "      <th>196</th>\n",
              "      <td>10</td>\n",
              "      <td>21</td>\n",
              "      <td>6</td>\n",
              "      <td>75</td>\n",
              "      <td>34</td>\n",
              "      <td>4</td>\n",
              "      <td>0</td>\n",
              "      <td>0</td>\n",
              "      <td>0</td>\n",
              "    </tr>\n",
              "    <tr>\n",
              "      <th>197</th>\n",
              "      <td>0</td>\n",
              "      <td>13</td>\n",
              "      <td>8</td>\n",
              "      <td>42</td>\n",
              "      <td>18</td>\n",
              "      <td>2</td>\n",
              "      <td>0</td>\n",
              "      <td>0</td>\n",
              "      <td>1</td>\n",
              "    </tr>\n",
              "    <tr>\n",
              "      <th>198</th>\n",
              "      <td>0</td>\n",
              "      <td>4</td>\n",
              "      <td>38</td>\n",
              "      <td>2</td>\n",
              "      <td>21</td>\n",
              "      <td>4</td>\n",
              "      <td>1</td>\n",
              "      <td>0</td>\n",
              "      <td>1</td>\n",
              "    </tr>\n",
              "    <tr>\n",
              "      <th>199</th>\n",
              "      <td>2</td>\n",
              "      <td>16</td>\n",
              "      <td>31</td>\n",
              "      <td>47</td>\n",
              "      <td>17</td>\n",
              "      <td>33</td>\n",
              "      <td>0</td>\n",
              "      <td>1</td>\n",
              "      <td>1</td>\n",
              "    </tr>\n",
              "  </tbody>\n",
              "</table>\n",
              "<p>200 rows × 9 columns</p>\n",
              "</div>\n",
              "      <button class=\"colab-df-convert\" onclick=\"convertToInteractive('df-523c2dcc-0a7a-4487-9a83-3e60d6321341')\"\n",
              "              title=\"Convert this dataframe to an interactive table.\"\n",
              "              style=\"display:none;\">\n",
              "        \n",
              "  <svg xmlns=\"http://www.w3.org/2000/svg\" height=\"24px\"viewBox=\"0 0 24 24\"\n",
              "       width=\"24px\">\n",
              "    <path d=\"M0 0h24v24H0V0z\" fill=\"none\"/>\n",
              "    <path d=\"M18.56 5.44l.94 2.06.94-2.06 2.06-.94-2.06-.94-.94-2.06-.94 2.06-2.06.94zm-11 1L8.5 8.5l.94-2.06 2.06-.94-2.06-.94L8.5 2.5l-.94 2.06-2.06.94zm10 10l.94 2.06.94-2.06 2.06-.94-2.06-.94-.94-2.06-.94 2.06-2.06.94z\"/><path d=\"M17.41 7.96l-1.37-1.37c-.4-.4-.92-.59-1.43-.59-.52 0-1.04.2-1.43.59L10.3 9.45l-7.72 7.72c-.78.78-.78 2.05 0 2.83L4 21.41c.39.39.9.59 1.41.59.51 0 1.02-.2 1.41-.59l7.78-7.78 2.81-2.81c.8-.78.8-2.07 0-2.86zM5.41 20L4 18.59l7.72-7.72 1.47 1.35L5.41 20z\"/>\n",
              "  </svg>\n",
              "      </button>\n",
              "      \n",
              "  <style>\n",
              "    .colab-df-container {\n",
              "      display:flex;\n",
              "      flex-wrap:wrap;\n",
              "      gap: 12px;\n",
              "    }\n",
              "\n",
              "    .colab-df-convert {\n",
              "      background-color: #E8F0FE;\n",
              "      border: none;\n",
              "      border-radius: 50%;\n",
              "      cursor: pointer;\n",
              "      display: none;\n",
              "      fill: #1967D2;\n",
              "      height: 32px;\n",
              "      padding: 0 0 0 0;\n",
              "      width: 32px;\n",
              "    }\n",
              "\n",
              "    .colab-df-convert:hover {\n",
              "      background-color: #E2EBFA;\n",
              "      box-shadow: 0px 1px 2px rgba(60, 64, 67, 0.3), 0px 1px 3px 1px rgba(60, 64, 67, 0.15);\n",
              "      fill: #174EA6;\n",
              "    }\n",
              "\n",
              "    [theme=dark] .colab-df-convert {\n",
              "      background-color: #3B4455;\n",
              "      fill: #D2E3FC;\n",
              "    }\n",
              "\n",
              "    [theme=dark] .colab-df-convert:hover {\n",
              "      background-color: #434B5C;\n",
              "      box-shadow: 0px 1px 3px 1px rgba(0, 0, 0, 0.15);\n",
              "      filter: drop-shadow(0px 1px 2px rgba(0, 0, 0, 0.3));\n",
              "      fill: #FFFFFF;\n",
              "    }\n",
              "  </style>\n",
              "\n",
              "      <script>\n",
              "        const buttonEl =\n",
              "          document.querySelector('#df-523c2dcc-0a7a-4487-9a83-3e60d6321341 button.colab-df-convert');\n",
              "        buttonEl.style.display =\n",
              "          google.colab.kernel.accessAllowed ? 'block' : 'none';\n",
              "\n",
              "        async function convertToInteractive(key) {\n",
              "          const element = document.querySelector('#df-523c2dcc-0a7a-4487-9a83-3e60d6321341');\n",
              "          const dataTable =\n",
              "            await google.colab.kernel.invokeFunction('convertToInteractive',\n",
              "                                                     [key], {});\n",
              "          if (!dataTable) return;\n",
              "\n",
              "          const docLinkHtml = 'Like what you see? Visit the ' +\n",
              "            '<a target=\"_blank\" href=https://colab.research.google.com/notebooks/data_table.ipynb>data table notebook</a>'\n",
              "            + ' to learn more about interactive tables.';\n",
              "          element.innerHTML = '';\n",
              "          dataTable['output_type'] = 'display_data';\n",
              "          await google.colab.output.renderOutput(dataTable, element);\n",
              "          const docLink = document.createElement('div');\n",
              "          docLink.innerHTML = docLinkHtml;\n",
              "          element.appendChild(docLink);\n",
              "        }\n",
              "      </script>\n",
              "    </div>\n",
              "  </div>\n",
              "  "
            ]
          },
          "metadata": {},
          "execution_count": 11
        }
      ]
    },
    {
      "cell_type": "code",
      "source": [
        "data.isnull().values.any()"
      ],
      "metadata": {
        "colab": {
          "base_uri": "https://localhost:8080/"
        },
        "id": "1hn2fLF-YP5Y",
        "outputId": "9ab45c72-027a-4239-a851-4b8f16603502"
      },
      "execution_count": 32,
      "outputs": [
        {
          "output_type": "execute_result",
          "data": {
            "text/plain": [
              "False"
            ]
          },
          "metadata": {},
          "execution_count": 32
        }
      ]
    },
    {
      "cell_type": "code",
      "source": [
        "df_life = data\n",
        "X = df_life.drop('Life', axis=1)\n",
        "y = df_life['Life']"
      ],
      "metadata": {
        "id": "dr-ggPV6RbAX"
      },
      "execution_count": 16,
      "outputs": []
    },
    {
      "cell_type": "code",
      "source": [
        "X.shape"
      ],
      "metadata": {
        "colab": {
          "base_uri": "https://localhost:8080/"
        },
        "id": "Qu1CvzauWl14",
        "outputId": "58892bfd-3e88-4569-dbf4-142132c4be61"
      },
      "execution_count": 29,
      "outputs": [
        {
          "output_type": "execute_result",
          "data": {
            "text/plain": [
              "(200, 8)"
            ]
          },
          "metadata": {},
          "execution_count": 29
        }
      ]
    },
    {
      "cell_type": "code",
      "source": [
        "y.shape"
      ],
      "metadata": {
        "colab": {
          "base_uri": "https://localhost:8080/"
        },
        "id": "I9i4E3jwWrWv",
        "outputId": "05106a65-777b-41f1-875e-26254b373f94"
      },
      "execution_count": 30,
      "outputs": [
        {
          "output_type": "execute_result",
          "data": {
            "text/plain": [
              "(200,)"
            ]
          },
          "metadata": {},
          "execution_count": 30
        }
      ]
    },
    {
      "cell_type": "code",
      "source": [
        "numeric_var = ['O2', 'O3', 'H2O', 'N2', 'H2']\n",
        "categorical_var = ['Sunlight','Aliens','Plants']"
      ],
      "metadata": {
        "id": "gmcIGSYfQsgv"
      },
      "execution_count": 13,
      "outputs": []
    },
    {
      "cell_type": "code",
      "source": [
        "from sklearn.pipeline import Pipeline #sklearn==0.23.2\n",
        "from sklearn.preprocessing import StandardScaler, OneHotEncoder\n",
        "from sklearn.compose import make_column_transformer\n",
        "from lightgbm import LGBMClassifier\n",
        "\n",
        "tuples = list()\n",
        "\n",
        "tuples.append((Pipeline([\n",
        "        ('scaler', StandardScaler()),\n",
        "    ]), numeric_var))\n",
        "\n",
        "tuples.append((Pipeline([\n",
        "        ('onehot', OneHotEncoder()),\n",
        "    ]), categorical_var))\n",
        "\n",
        "preprocess = make_column_transformer(*tuples)\n",
        "\n",
        "pipe = Pipeline([\n",
        "    ('preprocess', preprocess),\n",
        "    ('classifier', LGBMClassifier())\n",
        "])"
      ],
      "metadata": {
        "id": "JrsSbuj3NSgl"
      },
      "execution_count": 14,
      "outputs": []
    },
    {
      "cell_type": "code",
      "source": [
        "#GRID SEARCH\n",
        "from sklearn.model_selection import GridSearchCV\n",
        "\n",
        "param_grid = {\n",
        "    \"classifier__learning_rate\": [0.0001, 0.0005, 0.001, 0.01, 0.1],\n",
        "    \"classifier__n_estimators\": [100, 300, 600, 800, 1000],\n",
        "    \"classifier__max_depth\": [ 4, 20, 100, 250, 400] \n",
        "}\n",
        "\n",
        "# grid\n",
        "reg_grid = GridSearchCV(pipe,\n",
        "                        param_grid=param_grid,\n",
        "                        cv=5,\n",
        "                        n_jobs=8, \n",
        "                        scoring='roc_auc'\n",
        "                       )\n",
        "\n",
        "model_grid = reg_grid.fit(X, y)"
      ],
      "metadata": {
        "colab": {
          "base_uri": "https://localhost:8080/"
        },
        "id": "f3z-fGmeRIKY",
        "outputId": "25650cbc-0858-4723-8f63-7c02bbe7a5fe"
      },
      "execution_count": 17,
      "outputs": [
        {
          "output_type": "stream",
          "name": "stderr",
          "text": [
            "/usr/local/lib/python3.7/dist-packages/sklearn/model_selection/_search.py:972: UserWarning: One or more of the test scores are non-finite: [nan nan nan nan nan nan nan nan nan nan nan nan nan nan nan nan nan nan\n",
            " nan nan nan nan nan nan nan nan nan nan nan nan nan nan nan nan nan nan\n",
            " nan nan nan nan nan nan nan nan nan nan nan nan nan nan nan nan nan nan\n",
            " nan nan nan nan nan nan nan nan nan nan nan nan nan nan nan nan nan nan\n",
            " nan nan nan nan nan nan nan nan nan nan nan nan nan nan nan nan nan nan\n",
            " nan nan nan nan nan nan nan nan nan nan nan nan nan nan nan nan nan nan\n",
            " nan nan nan nan nan nan nan nan nan nan nan nan nan nan nan nan nan]\n",
            "  category=UserWarning,\n"
          ]
        }
      ]
    },
    {
      "cell_type": "code",
      "source": [
        "#random search\n",
        "from sklearn.model_selection import RandomizedSearchCV\n",
        "from scipy.stats import loguniform, randint\n",
        "\n",
        "n_iter = 70\n",
        "\n",
        "param_grid = {\n",
        "    \"classifier__learning_rate\": loguniform(1e-4, 0.1),\n",
        "    \"classifier__n_estimators\": randint(100,1000),\n",
        "    \"classifier__max_depth\": randint(4, 400) \n",
        "}\n",
        "\n",
        "# Random\n",
        "reg_rand = RandomizedSearchCV(pipe,\n",
        "                         param_distributions=param_grid,\n",
        "                         n_iter=n_iter,\n",
        "                         cv=5,\n",
        "                         n_jobs=8,\n",
        "                         scoring='roc_auc',\n",
        "                         random_state=123)\n",
        "\n",
        "model_rand = reg_rand.fit(X, y)"
      ],
      "metadata": {
        "colab": {
          "base_uri": "https://localhost:8080/"
        },
        "id": "Ru6R_89lRIP_",
        "outputId": "164d001f-2b06-4884-84ae-e3651a3665eb"
      },
      "execution_count": 18,
      "outputs": [
        {
          "output_type": "stream",
          "name": "stderr",
          "text": [
            "/usr/local/lib/python3.7/dist-packages/sklearn/model_selection/_search.py:972: UserWarning: One or more of the test scores are non-finite: [nan nan nan nan nan nan nan nan nan nan nan nan nan nan nan nan nan nan\n",
            " nan nan nan nan nan nan nan nan nan nan nan nan nan nan nan nan nan nan\n",
            " nan nan nan nan nan nan nan nan nan nan nan nan nan nan nan nan nan nan\n",
            " nan nan nan nan nan nan nan nan nan nan nan nan nan nan nan nan]\n",
            "  category=UserWarning,\n"
          ]
        }
      ]
    },
    {
      "cell_type": "code",
      "source": [
        "from skopt import BayesSearchCV\n",
        "\n",
        "# Bayesian\n",
        "n_iter = 70\n",
        "\n",
        "param_grid = {\n",
        "    \"classifier__learning_rate\": (0.0001, 0.1, \"log-uniform\"),\n",
        "    \"classifier__n_estimators\": (100,  1000) ,\n",
        "    \"classifier__max_depth\": (4, 400) \n",
        "}\n",
        "\n",
        "reg_bay = BayesSearchCV(estimator=pipe,\n",
        "                    search_spaces=param_grid,\n",
        "                    n_iter=n_iter,\n",
        "                    cv=5,\n",
        "                    n_jobs=8,\n",
        "                    random_state=123)\n",
        "\n",
        "model_bay = reg_bay.fit(X, y)"
      ],
      "metadata": {
        "id": "9lOQqaOvTptw"
      },
      "execution_count": 36,
      "outputs": []
    },
    {
      "cell_type": "code",
      "source": [
        "\n",
        "param = 'param_classifier__learning_rate'\n",
        "\n",
        "grid = model_grid.cv_results_[param]\n",
        "rand = model_rand.cv_results_[param]\n",
        "bay = model_bay.cv_results_[param]\n",
        "\n",
        "fig = plt.figure(figsize=(15, 7))\n",
        "\n",
        "ax = plt.gca()\n",
        "ax.scatter(np.arange(len(grid)), grid.data, c='b', s=20, label='grid');\n",
        "ax.scatter(np.arange(len(rand)), rand.data, c='r', s=20, label='random');\n",
        "ax.scatter(np.arange(len(bay)), bay, c='g', s=20, label='bayesian');\n",
        "ax.set_yscale('log')\n",
        "\n",
        "plt.legend();\n",
        "plt.title(param);"
      ],
      "metadata": {
        "colab": {
          "base_uri": "https://localhost:8080/",
          "height": 444
        },
        "id": "aZbcGFEWVpTw",
        "outputId": "f29e830b-a06b-40e0-ecef-813cff9cc69c"
      },
      "execution_count": 37,
      "outputs": [
        {
          "output_type": "display_data",
          "data": {
            "text/plain": [
              "<Figure size 1080x504 with 1 Axes>"
            ],
            "image/png": "[encoded data removed]"
          },
          "metadata": {
            "needs_background": "light"
          }
        }
      ]
    }
  ]
}