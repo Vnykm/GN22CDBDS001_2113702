{
  "nbformat": 4,
  "nbformat_minor": 0,
  "metadata": {
    "colab": {
      "name": "Challenge_NLP_2113702.ipynb",
      "provenance": [],
      "collapsed_sections": [],
      "authorship_tag": "ABX9TyNKpV0YBr6JtyDcL3ruacIA",
      "include_colab_link": true
    },
    "kernelspec": {
      "name": "python3",
      "display_name": "Python 3"
    },
    "language_info": {
      "name": "python"
    }
  },
  "cells": [
    {
      "cell_type": "markdown",
      "metadata": {
        "id": "view-in-github",
        "colab_type": "text"
      },
      "source": [
        "<a href=\"https://colab.research.google.com/github/Vnykm/GN22CDBDS001_2113702/blob/main/Challenge_NLP_2113702.ipynb\" target=\"_parent\"><img src=\"https://colab.research.google.com/assets/colab-badge.svg\" alt=\"Open In Colab\"/></a>"
      ]
    },
    {
      "cell_type": "markdown",
      "source": [
        "Submission By Vinayak Mathur"
      ],
      "metadata": {
        "id": "6yPqmLp0LOx_"
      }
    },
    {
      "cell_type": "code",
      "execution_count": 56,
      "metadata": {
        "id": "S1WSXHsVSjY7"
      },
      "outputs": [],
      "source": [
        "# importing libraries\n",
        "import sys\n",
        "import re"
      ]
    },
    {
      "cell_type": "code",
      "source": [
        "# I uploaded files to github as well. These files were generated thru a Random Wikipedia Page.\n",
        "file1 = 'https://raw.githubusercontent.com/Vnykm/GN22CDBDS001_2113702/main/challenge_nlp/files/American_gangster.txt'\n",
        "file2 = 'https://raw.githubusercontent.com/Vnykm/GN22CDBDS001_2113702/main/challenge_nlp/files/Joseph.txt'\n",
        "file3 = 'https://raw.githubusercontent.com/Vnykm/GN22CDBDS001_2113702/main/challenge_nlp/files/Palazzo_colonna.txt'\n",
        "file4 = 'https://raw.githubusercontent.com/Vnykm/GN22CDBDS001_2113702/main/challenge_nlp/files/eucalyptus.txt'\n",
        "file5 = 'https://raw.githubusercontent.com/Vnykm/GN22CDBDS001_2113702/main/challenge_nlp/files/throttle.txt'"
      ],
      "metadata": {
        "id": "ofk26tHqAehw"
      },
      "execution_count": 57,
      "outputs": []
    },
    {
      "cell_type": "code",
      "source": [
        "!wget https://raw.githubusercontent.com/Vnykm/GN22CDBDS001_2113702/main/challenge_nlp/files/American_gangster.txt"
      ],
      "metadata": {
        "id": "66tvBjDpGxxX"
      },
      "execution_count": null,
      "outputs": []
    },
    {
      "cell_type": "code",
      "source": [
        "!wget https://raw.githubusercontent.com/Vnykm/GN22CDBDS001_2113702/main/challenge_nlp/files/Joseph.txt"
      ],
      "metadata": {
        "id": "JbJW4O1bHAIY"
      },
      "execution_count": null,
      "outputs": []
    },
    {
      "cell_type": "code",
      "source": [
        "!wget https://raw.githubusercontent.com/Vnykm/GN22CDBDS001_2113702/main/challenge_nlp/files/Palazzo_colonna.txt"
      ],
      "metadata": {
        "id": "DpkNCTiyHATm"
      },
      "execution_count": null,
      "outputs": []
    },
    {
      "cell_type": "code",
      "source": [
        "!wget https://raw.githubusercontent.com/Vnykm/GN22CDBDS001_2113702/main/challenge_nlp/files/eucalyptus.txt"
      ],
      "metadata": {
        "id": "1V60EK6nHAce"
      },
      "execution_count": null,
      "outputs": []
    },
    {
      "cell_type": "code",
      "source": [
        "!wget https://raw.githubusercontent.com/Vnykm/GN22CDBDS001_2113702/main/challenge_nlp/files/throttle.txt"
      ],
      "metadata": {
        "id": "R15rdiU6HAj-"
      },
      "execution_count": null,
      "outputs": []
    },
    {
      "cell_type": "code",
      "source": [
        "!ls"
      ],
      "metadata": {
        "colab": {
          "base_uri": "https://localhost:8080/"
        },
        "id": "DacNA94YFORH",
        "outputId": "502d0929-40a6-4d6c-8e8a-fb850ee8a6b7"
      },
      "execution_count": 40,
      "outputs": [
        {
          "output_type": "stream",
          "name": "stdout",
          "text": [
            "American_gangster.txt  Joseph.txt\t    sample_data\n",
            "eucalyptus.txt\t       Palazzo_colonna.txt  throttle.txt\n"
          ]
        }
      ]
    },
    {
      "cell_type": "code",
      "source": [
        "## Reading Files via command line arguments.\n",
        "def read_file_command_line():\n",
        "    with open(sys.argv[1], 'r', encoding='utf-8') as f:\n",
        "        content = f.read()\n",
        "    return content    "
      ],
      "metadata": {
        "id": "Mj7ETIQST_T-"
      },
      "execution_count": 41,
      "outputs": []
    },
    {
      "cell_type": "code",
      "source": [
        "## Reading Files manually\n",
        "def read_file(fname):\n",
        "    with open(fname, 'r', encoding='utf-8') as f:\n",
        "        content = f.read()\n",
        "    return content  "
      ],
      "metadata": {
        "id": "13gYJgEyBdJw"
      },
      "execution_count": 53,
      "outputs": []
    },
    {
      "cell_type": "code",
      "source": [
        "## Print all currencies in text, Accepted- $, ₹, £  \n",
        "def find_currency(fname):\n",
        "    curr = re.findall(r\"([$£₹][.\\s]?[0-9]+\\.?[0-9]*)\", fname)\n",
        "    if curr == []: return '\\nNo Currency found'\n",
        "    return '\\nCurrencies: '+str(curr)"
      ],
      "metadata": {
        "id": "A7WBmLQpUMQF"
      },
      "execution_count": 43,
      "outputs": []
    },
    {
      "cell_type": "code",
      "source": [
        "## Print all date times in the text- dd/mm/yyyy, dd/mm/yy, mm/dd/yyyy, mm/dd/yy\n",
        "def find_dates(fname):\n",
        "    dates = re.findall(r\"(\\d{2}/\\d{2}/\\d{2,4})\", fname)\n",
        "    if dates == []: return '\\nNo Dates found'\n",
        "    return '\\nDates: '+str(dates)"
      ],
      "metadata": {
        "id": "8eKf2fIJUOF1"
      },
      "execution_count": 44,
      "outputs": []
    },
    {
      "cell_type": "code",
      "source": [
        "## Print all cardinilities and orders- 4th, fifth, sixth, 1st, 2nd, nineteenth, fifth\n",
        "def cardinilities(fname):\n",
        "    cardi = re.findall(r\"(\\d+(?:st|[nr]d|th))\", fname)\n",
        "    ordi = re.findall(r\"/first|second|tw(?:elfth|entieth)|th(?:irt(?:eenth|ieth)|ird)|fi(?:ft(?:eenth|ieth)|h)|(?:four|six|seven)(?:teenth|th|tieth)|eight(?:eenth|h|ieth)|nin(?:e(?:teenth|tieth)|th)|tenth|eleventh|fortieth|hundreth|thousandth/i\", fname)\n",
        "    res = cardi + ordi\n",
        "    if res == []: return '\\nNo Cardinalities/Order were found'\n",
        "    return '\\nCardinalities/Orders: '+str(res)"
      ],
      "metadata": {
        "id": "W_1UUF6kUPvk"
      },
      "execution_count": 58,
      "outputs": []
    },
    {
      "cell_type": "code",
      "source": [
        "## Print all 4 letter words that begin with vowels \n",
        "def find_vowels(fname):\n",
        "    vows = re.findall(r\"\\b[aeiouAEIOU][a-zA-Z]{3}\\b\", fname)\n",
        "    if vows == []: return '\\nNo 4 letter words that begin with vowels found'\n",
        "    return '\\n4 letter words that begin with vowels: '+str(vows)\n",
        "\n"
      ],
      "metadata": {
        "id": "J68LU-kpURnV"
      },
      "execution_count": 46,
      "outputs": []
    },
    {
      "cell_type": "code",
      "source": [
        "if __name__=='__main__':\n",
        "    files = ['American_gangster.txt',  'Joseph.txt', 'eucalyptus.txt', 'Palazzo_colonna.txt', 'throttle.txt']\n",
        "    for fname in files:\n",
        "      f = read_file(fname)\n",
        "      print('\\n____________________________________________________________________________________________________________________________________\\n')\n",
        "      print('\\nResults for - ',fname) \n",
        "      print(find_currency(f))\n",
        "      print(find_dates(f))\n",
        "      print(cardinilities(f))\n",
        "      print(find_vowels(f))"
      ],
      "metadata": {
        "colab": {
          "base_uri": "https://localhost:8080/"
        },
        "id": "k2jIRwNcUSwm",
        "outputId": "88eb7d48-18bd-4f9f-da21-de9ba79706f8"
      },
      "execution_count": 59,
      "outputs": [
        {
          "output_type": "stream",
          "name": "stdout",
          "text": [
            "\n",
            "____________________________________________________________________________________________________________________________________\n",
            "\n",
            "\n",
            "Results for -  American_gangster.txt\n",
            "\n",
            "Currencies: ['$165165.', '$1564', '₹89489', '£555']\n",
            "\n",
            "Dates: ['01/01/2007', '05/03/2007']\n",
            "\n",
            "Cardinalities/Orders: ['tenth', 'second', 'tenth', 'second', 'fourteenth', 'eighth', 'second']\n",
            "\n",
            "4 letter words that begin with vowels: ['also', 'also', 'also', 'over', 'Once', 'also', 'Elba', 'each']\n",
            "\n",
            "____________________________________________________________________________________________________________________________________\n",
            "\n",
            "\n",
            "Results for -  Joseph.txt\n",
            "\n",
            "No Currency found\n",
            "\n",
            "Dates: ['22/02/91', '25/12/1972']\n",
            "\n",
            "Cardinalities/Orders: ['805th', 'twelfth']\n",
            "\n",
            "4 letter words that begin with vowels: ['over', 'also', 'also', 'also', 'into', 'Army', 'even']\n",
            "\n",
            "____________________________________________________________________________________________________________________________________\n",
            "\n",
            "\n",
            "Results for -  eucalyptus.txt\n",
            "\n",
            "No Currency found\n",
            "\n",
            "No Dates found\n",
            "\n",
            "Cardinalities/Orders: ['4th', '103rd', '6th']\n",
            "\n",
            "4 letter words that begin with vowels: ['east']\n",
            "\n",
            "____________________________________________________________________________________________________________________________________\n",
            "\n",
            "\n",
            "Results for -  Palazzo_colonna.txt\n",
            "\n",
            "Currencies: ['$500', '₹200', '£600']\n",
            "\n",
            "Dates: ['01/12/1578', '25/03/39']\n",
            "\n",
            "Cardinalities/Orders: ['13th', '13th', '17th', '18th', '18th', '18th', '456th']\n",
            "\n",
            "4 letter words that begin with vowels: ['over', 'over', 'also', 'into', 'Only', 'once', 'also']\n",
            "\n",
            "____________________________________________________________________________________________________________________________________\n",
            "\n",
            "\n",
            "Results for -  throttle.txt\n",
            "\n",
            "Currencies: ['$100', '₹7550.63', '£90.85']\n",
            "\n",
            "Dates: ['01/01/2000']\n",
            "\n",
            "Cardinalities/Orders: ['248th']\n",
            "\n",
            "4 letter words that begin with vowels: ['inch', 'into', 'only']\n"
          ]
        }
      ]
    }
  ]
}