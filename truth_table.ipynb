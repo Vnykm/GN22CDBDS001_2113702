{
  "nbformat": 4,
  "nbformat_minor": 0,
  "metadata": {
    "colab": {
      "name": "truth_table.ipynb",
      "provenance": [],
      "authorship_tag": "ABX9TyOegGp/l3aPmd/niiLwWuUL",
      "include_colab_link": true
    },
    "kernelspec": {
      "name": "python3",
      "display_name": "Python 3"
    },
    "language_info": {
      "name": "python"
    }
  },
  "cells": [
    {
      "cell_type": "markdown",
      "metadata": {
        "id": "view-in-github",
        "colab_type": "text"
      },
      "source": [
        "<a href=\"https://colab.research.google.com/github/Vnykm/GN22CDBDS001_2113702/blob/main/truth_table.ipynb\" target=\"_parent\"><img src=\"https://colab.research.google.com/assets/colab-badge.svg\" alt=\"Open In Colab\"/></a>"
      ]
    },
    {
      "cell_type": "markdown",
      "source": [
        "Write a python Notebook to assume a length N.\n",
        "Generate the truth table of size N.\n",
        " \n",
        "example:\n",
        "N= 3\n",
        " \n",
        "output:\n",
        "000\n",
        "001\n",
        "010\n",
        "011\n",
        "100\n",
        "101\n",
        "110\n",
        "111\n",
        " \n",
        "Then convert this notebook into a python script that accepts N from user as input instead of assumption."
      ],
      "metadata": {
        "id": "U1ta4PE7qDrJ"
      }
    },
    {
      "cell_type": "code",
      "source": [
        "def truthtable(n):\n",
        "  if n < 1:\n",
        "    return [[]]\n",
        "  subtable = truthtable(n-1)\n",
        "  return [ row + [v] for row in subtable for v in [0,1] ]"
      ],
      "metadata": {
        "id": "T64nk_DPppcg"
      },
      "execution_count": 12,
      "outputs": []
    },
    {
      "cell_type": "code",
      "source": [
        "n = int(input(\"Length: \"))\n",
        "print('Truth Table for Length {} :'.format(n))\n",
        "table = truthtable(n)\n",
        "table"
      ],
      "metadata": {
        "colab": {
          "base_uri": "https://localhost:8080/"
        },
        "id": "G3eyzAfanRkI",
        "outputId": "e9b02d9c-e3fa-428e-9c4b-96bf0f43f30c"
      },
      "execution_count": 15,
      "outputs": [
        {
          "output_type": "stream",
          "name": "stdout",
          "text": [
            "Length: 3\n",
            "Truth Table for Length 3 :\n"
          ]
        },
        {
          "output_type": "execute_result",
          "data": {
            "text/plain": [
              "[[0, 0, 0],\n",
              " [0, 0, 1],\n",
              " [0, 1, 0],\n",
              " [0, 1, 1],\n",
              " [1, 0, 0],\n",
              " [1, 0, 1],\n",
              " [1, 1, 0],\n",
              " [1, 1, 1]]"
            ]
          },
          "metadata": {},
          "execution_count": 15
        }
      ]
    },
    {
      "cell_type": "code",
      "source": [
        "n = int(input(\"Length: \"))\n",
        "print('Truth Table for Length {} :'.format(n))\n",
        "table = list(itertools.product([0, 1], repeat=n))\n",
        "table"
      ],
      "metadata": {
        "colab": {
          "base_uri": "https://localhost:8080/"
        },
        "id": "E3eviAzZpSnh",
        "outputId": "e274a419-a0e6-42ed-9050-5cd10be73c98"
      },
      "execution_count": 16,
      "outputs": [
        {
          "output_type": "stream",
          "name": "stdout",
          "text": [
            "Length: 4\n",
            "Truth Table for Length 4 :\n"
          ]
        },
        {
          "output_type": "execute_result",
          "data": {
            "text/plain": [
              "[(0, 0, 0, 0),\n",
              " (0, 0, 0, 1),\n",
              " (0, 0, 1, 0),\n",
              " (0, 0, 1, 1),\n",
              " (0, 1, 0, 0),\n",
              " (0, 1, 0, 1),\n",
              " (0, 1, 1, 0),\n",
              " (0, 1, 1, 1),\n",
              " (1, 0, 0, 0),\n",
              " (1, 0, 0, 1),\n",
              " (1, 0, 1, 0),\n",
              " (1, 0, 1, 1),\n",
              " (1, 1, 0, 0),\n",
              " (1, 1, 0, 1),\n",
              " (1, 1, 1, 0),\n",
              " (1, 1, 1, 1)]"
            ]
          },
          "metadata": {},
          "execution_count": 16
        }
      ]
    }
  ]
}