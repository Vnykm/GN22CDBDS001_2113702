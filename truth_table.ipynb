{
  "nbformat": 4,
  "nbformat_minor": 0,
  "metadata": {
    "colab": {
      "name": "truth_table.ipynb",
      "provenance": [],
      "authorship_tag": "ABX9TyOqmlymVVCoe2pLqQ6l+jcR",
      "include_colab_link": true
    },
    "kernelspec": {
      "name": "python3",
      "display_name": "Python 3"
    },
    "language_info": {
      "name": "python"
    }
  },
  "cells": [
    {
      "cell_type": "markdown",
      "metadata": {
        "id": "view-in-github",
        "colab_type": "text"
      },
      "source": [
        "<a href=\"https://colab.research.google.com/github/Vnykm/GN22CDBDS001_2113702/blob/main/truth_table.ipynb\" target=\"_parent\"><img src=\"https://colab.research.google.com/assets/colab-badge.svg\" alt=\"Open In Colab\"/></a>"
      ]
    },
    {
      "cell_type": "markdown",
      "source": [
        "Write a python Notebook to assume a length N.\n",
        "Generate the truth table of size N.\n",
        " \n",
        "example:\n",
        "N= 3\n",
        " \n",
        "output:\n",
        "000\n",
        "001\n",
        "010\n",
        "011\n",
        "100\n",
        "101\n",
        "110\n",
        "111\n",
        " \n",
        "Then convert this notebook into a python script that accepts N from user as input instead of assumption."
      ],
      "metadata": {
        "id": "U1ta4PE7qDrJ"
      }
    },
    {
      "cell_type": "code",
      "source": [
        "def truthtable(n):\n",
        "  if n < 1:\n",
        "    return [[]]\n",
        "  subtable = truthtable(n-1)\n",
        "  return [ row + [x] for row in subtable for x in [0,1] ]"
      ],
      "metadata": {
        "id": "T64nk_DPppcg"
      },
      "execution_count": 17,
      "outputs": []
    },
    {
      "cell_type": "code",
      "source": [
        "n = int(input(\"Length: \"))\n",
        "print('Truth Table for Length {} :'.format(n))\n",
        "table = truthtable(n)\n",
        "table"
      ],
      "metadata": {
        "colab": {
          "base_uri": "https://localhost:8080/"
        },
        "id": "G3eyzAfanRkI",
        "outputId": "e9b02d9c-e3fa-428e-9c4b-96bf0f43f30c"
      },
      "execution_count": 15,
      "outputs": [
        {
          "output_type": "stream",
          "name": "stdout",
          "text": [
            "Length: 3\n",
            "Truth Table for Length 3 :\n"
          ]
        },
        {
          "output_type": "execute_result",
          "data": {
            "text/plain": [
              "[[0, 0, 0],\n",
              " [0, 0, 1],\n",
              " [0, 1, 0],\n",
              " [0, 1, 1],\n",
              " [1, 0, 0],\n",
              " [1, 0, 1],\n",
              " [1, 1, 0],\n",
              " [1, 1, 1]]"
            ]
          },
          "metadata": {},
          "execution_count": 15
        }
      ]
    },
    {
      "cell_type": "code",
      "source": [
        "def truthtable(n):\n",
        "  if n < 1:\n",
        "    return [[]]\n",
        "  subtable = truthtable(n-1)\n",
        "  return [ row + [x] for row in subtable for x in [0,1] ]\n",
        "\n",
        "n = int(input(\"Length: \"))\n",
        "print('Truth Table for Length {} :'.format(n))\n",
        "table = truthtable(n)\n",
        "print(table)\n",
        "%%writefile -a"
      ],
      "metadata": {
        "colab": {
          "base_uri": "https://localhost:8080/"
        },
        "id": "EP_ODgSrsmQJ",
        "outputId": "7f89165b-c578-467b-df28-459a05f8788d"
      },
      "execution_count": 19,
      "outputs": [
        {
          "output_type": "stream",
          "name": "stderr",
          "text": [
            "UsageError: %%writefile is a cell magic, but the cell body is empty.\n"
          ]
        }
      ]
    },
    {
      "cell_type": "code",
      "source": [
        ""
      ],
      "metadata": {
        "id": "Gkqj4qaSs5vi"
      },
      "execution_count": null,
      "outputs": []
    }
  ]
}